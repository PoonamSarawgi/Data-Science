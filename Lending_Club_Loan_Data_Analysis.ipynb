{
  "nbformat": 4,
  "nbformat_minor": 0,
  "metadata": {
    "colab": {
      "provenance": [],
      "authorship_tag": "ABX9TyOz/xrk8umFyOSedZynWWcI",
      "include_colab_link": true
    },
    "kernelspec": {
      "name": "python3",
      "display_name": "Python 3"
    },
    "language_info": {
      "name": "python"
    }
  },
  "cells": [
    {
      "cell_type": "markdown",
      "metadata": {
        "id": "view-in-github",
        "colab_type": "text"
      },
      "source": [
        "<a href=\"https://colab.research.google.com/github/PoonamSarawgi/Deep-Leaning/blob/main/Lending_Club_Loan_Data_Analysis.ipynb\" target=\"_parent\"><img src=\"https://colab.research.google.com/assets/colab-badge.svg\" alt=\"Open In Colab\"/></a>"
      ]
    },
    {
      "cell_type": "markdown",
      "source": [
        "Steps to perform:\n",
        "\n",
        "Perform exploratory data analysis and feature engineering and then apply feature engineering. Follow up with a deep learning model to predict whether or not the loan will be default using the historical data.\n",
        "\n",
        "Tasks:\n",
        "\n",
        "1.     Feature Transformation\n",
        "\n",
        "Transform categorical values into numerical values (discrete)\n",
        "\n",
        "2.     Exploratory data analysis of different factors of the dataset.\n",
        "\n",
        "3.     Additional Feature Engineering\n",
        "\n",
        "You will check the correlation between features and will drop those features which have a strong correlation\n",
        "\n",
        "This will help reduce the number of features and will leave you with the most relevant features\n",
        "\n",
        "4.     Modeling\n",
        "\n",
        "After applying EDA and feature engineering, you are now ready to build the predictive models\n",
        "\n",
        "In this part, you will create a deep learning model using Keras with Tensorflow backend\n",
        "\n",
        "To download the data sets click here\n"
      ],
      "metadata": {
        "id": "UOmGCT3xp1pi"
      }
    },
    {
      "cell_type": "code",
      "execution_count": null,
      "metadata": {
        "id": "CCTb2jaNoTlX"
      },
      "outputs": [],
      "source": [
        "import numpy as np\n",
        "import pandas as pd\n",
        "import matplotlib.pyplot as plt\n",
        "import seaborn as sns"
      ]
    },
    {
      "cell_type": "code",
      "source": [
        "!pip install tensorflow"
      ],
      "metadata": {
        "colab": {
          "base_uri": "https://localhost:8080/"
        },
        "id": "TyAUaNzOpXnp",
        "outputId": "4d626aca-371a-4da5-877c-a6f92db330fc"
      },
      "execution_count": null,
      "outputs": [
        {
          "output_type": "stream",
          "name": "stdout",
          "text": [
            "Requirement already satisfied: tensorflow in /usr/local/lib/python3.10/dist-packages (2.12.0)\n",
            "Requirement already satisfied: absl-py>=1.0.0 in /usr/local/lib/python3.10/dist-packages (from tensorflow) (1.4.0)\n",
            "Requirement already satisfied: astunparse>=1.6.0 in /usr/local/lib/python3.10/dist-packages (from tensorflow) (1.6.3)\n",
            "Requirement already satisfied: flatbuffers>=2.0 in /usr/local/lib/python3.10/dist-packages (from tensorflow) (23.5.26)\n",
            "Requirement already satisfied: gast<=0.4.0,>=0.2.1 in /usr/local/lib/python3.10/dist-packages (from tensorflow) (0.4.0)\n",
            "Requirement already satisfied: google-pasta>=0.1.1 in /usr/local/lib/python3.10/dist-packages (from tensorflow) (0.2.0)\n",
            "Requirement already satisfied: grpcio<2.0,>=1.24.3 in /usr/local/lib/python3.10/dist-packages (from tensorflow) (1.56.0)\n",
            "Requirement already satisfied: h5py>=2.9.0 in /usr/local/lib/python3.10/dist-packages (from tensorflow) (3.8.0)\n",
            "Requirement already satisfied: jax>=0.3.15 in /usr/local/lib/python3.10/dist-packages (from tensorflow) (0.4.10)\n",
            "Requirement already satisfied: keras<2.13,>=2.12.0 in /usr/local/lib/python3.10/dist-packages (from tensorflow) (2.12.0)\n",
            "Requirement already satisfied: libclang>=13.0.0 in /usr/local/lib/python3.10/dist-packages (from tensorflow) (16.0.0)\n",
            "Requirement already satisfied: numpy<1.24,>=1.22 in /usr/local/lib/python3.10/dist-packages (from tensorflow) (1.22.4)\n",
            "Requirement already satisfied: opt-einsum>=2.3.2 in /usr/local/lib/python3.10/dist-packages (from tensorflow) (3.3.0)\n",
            "Requirement already satisfied: packaging in /usr/local/lib/python3.10/dist-packages (from tensorflow) (23.1)\n",
            "Requirement already satisfied: protobuf!=4.21.0,!=4.21.1,!=4.21.2,!=4.21.3,!=4.21.4,!=4.21.5,<5.0.0dev,>=3.20.3 in /usr/local/lib/python3.10/dist-packages (from tensorflow) (3.20.3)\n",
            "Requirement already satisfied: setuptools in /usr/local/lib/python3.10/dist-packages (from tensorflow) (67.7.2)\n",
            "Requirement already satisfied: six>=1.12.0 in /usr/local/lib/python3.10/dist-packages (from tensorflow) (1.16.0)\n",
            "Requirement already satisfied: tensorboard<2.13,>=2.12 in /usr/local/lib/python3.10/dist-packages (from tensorflow) (2.12.3)\n",
            "Requirement already satisfied: tensorflow-estimator<2.13,>=2.12.0 in /usr/local/lib/python3.10/dist-packages (from tensorflow) (2.12.0)\n",
            "Requirement already satisfied: termcolor>=1.1.0 in /usr/local/lib/python3.10/dist-packages (from tensorflow) (2.3.0)\n",
            "Requirement already satisfied: typing-extensions>=3.6.6 in /usr/local/lib/python3.10/dist-packages (from tensorflow) (4.6.3)\n",
            "Requirement already satisfied: wrapt<1.15,>=1.11.0 in /usr/local/lib/python3.10/dist-packages (from tensorflow) (1.14.1)\n",
            "Requirement already satisfied: tensorflow-io-gcs-filesystem>=0.23.1 in /usr/local/lib/python3.10/dist-packages (from tensorflow) (0.32.0)\n",
            "Requirement already satisfied: wheel<1.0,>=0.23.0 in /usr/local/lib/python3.10/dist-packages (from astunparse>=1.6.0->tensorflow) (0.40.0)\n",
            "Requirement already satisfied: ml-dtypes>=0.1.0 in /usr/local/lib/python3.10/dist-packages (from jax>=0.3.15->tensorflow) (0.2.0)\n",
            "Requirement already satisfied: scipy>=1.7 in /usr/local/lib/python3.10/dist-packages (from jax>=0.3.15->tensorflow) (1.10.1)\n",
            "Requirement already satisfied: google-auth<3,>=1.6.3 in /usr/local/lib/python3.10/dist-packages (from tensorboard<2.13,>=2.12->tensorflow) (2.17.3)\n",
            "Requirement already satisfied: google-auth-oauthlib<1.1,>=0.5 in /usr/local/lib/python3.10/dist-packages (from tensorboard<2.13,>=2.12->tensorflow) (1.0.0)\n",
            "Requirement already satisfied: markdown>=2.6.8 in /usr/local/lib/python3.10/dist-packages (from tensorboard<2.13,>=2.12->tensorflow) (3.4.3)\n",
            "Requirement already satisfied: requests<3,>=2.21.0 in /usr/local/lib/python3.10/dist-packages (from tensorboard<2.13,>=2.12->tensorflow) (2.27.1)\n",
            "Requirement already satisfied: tensorboard-data-server<0.8.0,>=0.7.0 in /usr/local/lib/python3.10/dist-packages (from tensorboard<2.13,>=2.12->tensorflow) (0.7.1)\n",
            "Requirement already satisfied: werkzeug>=1.0.1 in /usr/local/lib/python3.10/dist-packages (from tensorboard<2.13,>=2.12->tensorflow) (2.3.6)\n",
            "Requirement already satisfied: cachetools<6.0,>=2.0.0 in /usr/local/lib/python3.10/dist-packages (from google-auth<3,>=1.6.3->tensorboard<2.13,>=2.12->tensorflow) (5.3.1)\n",
            "Requirement already satisfied: pyasn1-modules>=0.2.1 in /usr/local/lib/python3.10/dist-packages (from google-auth<3,>=1.6.3->tensorboard<2.13,>=2.12->tensorflow) (0.3.0)\n",
            "Requirement already satisfied: rsa<5,>=3.1.4 in /usr/local/lib/python3.10/dist-packages (from google-auth<3,>=1.6.3->tensorboard<2.13,>=2.12->tensorflow) (4.9)\n",
            "Requirement already satisfied: requests-oauthlib>=0.7.0 in /usr/local/lib/python3.10/dist-packages (from google-auth-oauthlib<1.1,>=0.5->tensorboard<2.13,>=2.12->tensorflow) (1.3.1)\n",
            "Requirement already satisfied: urllib3<1.27,>=1.21.1 in /usr/local/lib/python3.10/dist-packages (from requests<3,>=2.21.0->tensorboard<2.13,>=2.12->tensorflow) (1.26.16)\n",
            "Requirement already satisfied: certifi>=2017.4.17 in /usr/local/lib/python3.10/dist-packages (from requests<3,>=2.21.0->tensorboard<2.13,>=2.12->tensorflow) (2023.5.7)\n",
            "Requirement already satisfied: charset-normalizer~=2.0.0 in /usr/local/lib/python3.10/dist-packages (from requests<3,>=2.21.0->tensorboard<2.13,>=2.12->tensorflow) (2.0.12)\n",
            "Requirement already satisfied: idna<4,>=2.5 in /usr/local/lib/python3.10/dist-packages (from requests<3,>=2.21.0->tensorboard<2.13,>=2.12->tensorflow) (3.4)\n",
            "Requirement already satisfied: MarkupSafe>=2.1.1 in /usr/local/lib/python3.10/dist-packages (from werkzeug>=1.0.1->tensorboard<2.13,>=2.12->tensorflow) (2.1.3)\n",
            "Requirement already satisfied: pyasn1<0.6.0,>=0.4.6 in /usr/local/lib/python3.10/dist-packages (from pyasn1-modules>=0.2.1->google-auth<3,>=1.6.3->tensorboard<2.13,>=2.12->tensorflow) (0.5.0)\n",
            "Requirement already satisfied: oauthlib>=3.0.0 in /usr/local/lib/python3.10/dist-packages (from requests-oauthlib>=0.7.0->google-auth-oauthlib<1.1,>=0.5->tensorboard<2.13,>=2.12->tensorflow) (3.2.2)\n"
          ]
        }
      ]
    },
    {
      "cell_type": "code",
      "source": [
        "import tensorflow"
      ],
      "metadata": {
        "id": "pgktj8SSwCLu"
      },
      "execution_count": null,
      "outputs": []
    },
    {
      "cell_type": "code",
      "source": [
        "!pip install keras"
      ],
      "metadata": {
        "colab": {
          "base_uri": "https://localhost:8080/"
        },
        "id": "uVWYE3gDpa-N",
        "outputId": "59b9ed5e-085a-4cf2-cde3-ced4f945c925"
      },
      "execution_count": null,
      "outputs": [
        {
          "output_type": "stream",
          "name": "stdout",
          "text": [
            "Requirement already satisfied: keras in /usr/local/lib/python3.10/dist-packages (2.12.0)\n"
          ]
        }
      ]
    },
    {
      "cell_type": "code",
      "source": [
        "#load data\n",
        "df = pd.read_csv('loan_data.csv')"
      ],
      "metadata": {
        "id": "HpaHtwwxqVNj"
      },
      "execution_count": null,
      "outputs": []
    },
    {
      "cell_type": "code",
      "source": [
        "df.shape"
      ],
      "metadata": {
        "colab": {
          "base_uri": "https://localhost:8080/"
        },
        "id": "x3RsL1I-qiGj",
        "outputId": "fe491622-6068-4da2-e195-f9fbb2c3e704"
      },
      "execution_count": null,
      "outputs": [
        {
          "output_type": "execute_result",
          "data": {
            "text/plain": [
              "(9578, 14)"
            ]
          },
          "metadata": {},
          "execution_count": 6
        }
      ]
    },
    {
      "cell_type": "code",
      "source": [
        "df.head()"
      ],
      "metadata": {
        "colab": {
          "base_uri": "https://localhost:8080/",
          "height": 270
        },
        "id": "FiTzKXRnql0J",
        "outputId": "4e053416-aac5-40d2-88f6-c933ae795b40"
      },
      "execution_count": null,
      "outputs": [
        {
          "output_type": "execute_result",
          "data": {
            "text/plain": [
              "   credit.policy             purpose  int.rate  installment  log.annual.inc  \\\n",
              "0              1  debt_consolidation    0.1189       829.10       11.350407   \n",
              "1              1         credit_card    0.1071       228.22       11.082143   \n",
              "2              1  debt_consolidation    0.1357       366.86       10.373491   \n",
              "3              1  debt_consolidation    0.1008       162.34       11.350407   \n",
              "4              1         credit_card    0.1426       102.92       11.299732   \n",
              "\n",
              "     dti  fico  days.with.cr.line  revol.bal  revol.util  inq.last.6mths  \\\n",
              "0  19.48   737        5639.958333      28854        52.1               0   \n",
              "1  14.29   707        2760.000000      33623        76.7               0   \n",
              "2  11.63   682        4710.000000       3511        25.6               1   \n",
              "3   8.10   712        2699.958333      33667        73.2               1   \n",
              "4  14.97   667        4066.000000       4740        39.5               0   \n",
              "\n",
              "   delinq.2yrs  pub.rec  not.fully.paid  \n",
              "0            0        0               0  \n",
              "1            0        0               0  \n",
              "2            0        0               0  \n",
              "3            0        0               0  \n",
              "4            1        0               0  "
            ],
            "text/html": [
              "\n",
              "  <div id=\"df-323d0811-2ed8-4959-ba57-0f7e9f4f1873\">\n",
              "    <div class=\"colab-df-container\">\n",
              "      <div>\n",
              "<style scoped>\n",
              "    .dataframe tbody tr th:only-of-type {\n",
              "        vertical-align: middle;\n",
              "    }\n",
              "\n",
              "    .dataframe tbody tr th {\n",
              "        vertical-align: top;\n",
              "    }\n",
              "\n",
              "    .dataframe thead th {\n",
              "        text-align: right;\n",
              "    }\n",
              "</style>\n",
              "<table border=\"1\" class=\"dataframe\">\n",
              "  <thead>\n",
              "    <tr style=\"text-align: right;\">\n",
              "      <th></th>\n",
              "      <th>credit.policy</th>\n",
              "      <th>purpose</th>\n",
              "      <th>int.rate</th>\n",
              "      <th>installment</th>\n",
              "      <th>log.annual.inc</th>\n",
              "      <th>dti</th>\n",
              "      <th>fico</th>\n",
              "      <th>days.with.cr.line</th>\n",
              "      <th>revol.bal</th>\n",
              "      <th>revol.util</th>\n",
              "      <th>inq.last.6mths</th>\n",
              "      <th>delinq.2yrs</th>\n",
              "      <th>pub.rec</th>\n",
              "      <th>not.fully.paid</th>\n",
              "    </tr>\n",
              "  </thead>\n",
              "  <tbody>\n",
              "    <tr>\n",
              "      <th>0</th>\n",
              "      <td>1</td>\n",
              "      <td>debt_consolidation</td>\n",
              "      <td>0.1189</td>\n",
              "      <td>829.10</td>\n",
              "      <td>11.350407</td>\n",
              "      <td>19.48</td>\n",
              "      <td>737</td>\n",
              "      <td>5639.958333</td>\n",
              "      <td>28854</td>\n",
              "      <td>52.1</td>\n",
              "      <td>0</td>\n",
              "      <td>0</td>\n",
              "      <td>0</td>\n",
              "      <td>0</td>\n",
              "    </tr>\n",
              "    <tr>\n",
              "      <th>1</th>\n",
              "      <td>1</td>\n",
              "      <td>credit_card</td>\n",
              "      <td>0.1071</td>\n",
              "      <td>228.22</td>\n",
              "      <td>11.082143</td>\n",
              "      <td>14.29</td>\n",
              "      <td>707</td>\n",
              "      <td>2760.000000</td>\n",
              "      <td>33623</td>\n",
              "      <td>76.7</td>\n",
              "      <td>0</td>\n",
              "      <td>0</td>\n",
              "      <td>0</td>\n",
              "      <td>0</td>\n",
              "    </tr>\n",
              "    <tr>\n",
              "      <th>2</th>\n",
              "      <td>1</td>\n",
              "      <td>debt_consolidation</td>\n",
              "      <td>0.1357</td>\n",
              "      <td>366.86</td>\n",
              "      <td>10.373491</td>\n",
              "      <td>11.63</td>\n",
              "      <td>682</td>\n",
              "      <td>4710.000000</td>\n",
              "      <td>3511</td>\n",
              "      <td>25.6</td>\n",
              "      <td>1</td>\n",
              "      <td>0</td>\n",
              "      <td>0</td>\n",
              "      <td>0</td>\n",
              "    </tr>\n",
              "    <tr>\n",
              "      <th>3</th>\n",
              "      <td>1</td>\n",
              "      <td>debt_consolidation</td>\n",
              "      <td>0.1008</td>\n",
              "      <td>162.34</td>\n",
              "      <td>11.350407</td>\n",
              "      <td>8.10</td>\n",
              "      <td>712</td>\n",
              "      <td>2699.958333</td>\n",
              "      <td>33667</td>\n",
              "      <td>73.2</td>\n",
              "      <td>1</td>\n",
              "      <td>0</td>\n",
              "      <td>0</td>\n",
              "      <td>0</td>\n",
              "    </tr>\n",
              "    <tr>\n",
              "      <th>4</th>\n",
              "      <td>1</td>\n",
              "      <td>credit_card</td>\n",
              "      <td>0.1426</td>\n",
              "      <td>102.92</td>\n",
              "      <td>11.299732</td>\n",
              "      <td>14.97</td>\n",
              "      <td>667</td>\n",
              "      <td>4066.000000</td>\n",
              "      <td>4740</td>\n",
              "      <td>39.5</td>\n",
              "      <td>0</td>\n",
              "      <td>1</td>\n",
              "      <td>0</td>\n",
              "      <td>0</td>\n",
              "    </tr>\n",
              "  </tbody>\n",
              "</table>\n",
              "</div>\n",
              "      <button class=\"colab-df-convert\" onclick=\"convertToInteractive('df-323d0811-2ed8-4959-ba57-0f7e9f4f1873')\"\n",
              "              title=\"Convert this dataframe to an interactive table.\"\n",
              "              style=\"display:none;\">\n",
              "        \n",
              "  <svg xmlns=\"http://www.w3.org/2000/svg\" height=\"24px\"viewBox=\"0 0 24 24\"\n",
              "       width=\"24px\">\n",
              "    <path d=\"M0 0h24v24H0V0z\" fill=\"none\"/>\n",
              "    <path d=\"M18.56 5.44l.94 2.06.94-2.06 2.06-.94-2.06-.94-.94-2.06-.94 2.06-2.06.94zm-11 1L8.5 8.5l.94-2.06 2.06-.94-2.06-.94L8.5 2.5l-.94 2.06-2.06.94zm10 10l.94 2.06.94-2.06 2.06-.94-2.06-.94-.94-2.06-.94 2.06-2.06.94z\"/><path d=\"M17.41 7.96l-1.37-1.37c-.4-.4-.92-.59-1.43-.59-.52 0-1.04.2-1.43.59L10.3 9.45l-7.72 7.72c-.78.78-.78 2.05 0 2.83L4 21.41c.39.39.9.59 1.41.59.51 0 1.02-.2 1.41-.59l7.78-7.78 2.81-2.81c.8-.78.8-2.07 0-2.86zM5.41 20L4 18.59l7.72-7.72 1.47 1.35L5.41 20z\"/>\n",
              "  </svg>\n",
              "      </button>\n",
              "      \n",
              "  <style>\n",
              "    .colab-df-container {\n",
              "      display:flex;\n",
              "      flex-wrap:wrap;\n",
              "      gap: 12px;\n",
              "    }\n",
              "\n",
              "    .colab-df-convert {\n",
              "      background-color: #E8F0FE;\n",
              "      border: none;\n",
              "      border-radius: 50%;\n",
              "      cursor: pointer;\n",
              "      display: none;\n",
              "      fill: #1967D2;\n",
              "      height: 32px;\n",
              "      padding: 0 0 0 0;\n",
              "      width: 32px;\n",
              "    }\n",
              "\n",
              "    .colab-df-convert:hover {\n",
              "      background-color: #E2EBFA;\n",
              "      box-shadow: 0px 1px 2px rgba(60, 64, 67, 0.3), 0px 1px 3px 1px rgba(60, 64, 67, 0.15);\n",
              "      fill: #174EA6;\n",
              "    }\n",
              "\n",
              "    [theme=dark] .colab-df-convert {\n",
              "      background-color: #3B4455;\n",
              "      fill: #D2E3FC;\n",
              "    }\n",
              "\n",
              "    [theme=dark] .colab-df-convert:hover {\n",
              "      background-color: #434B5C;\n",
              "      box-shadow: 0px 1px 3px 1px rgba(0, 0, 0, 0.15);\n",
              "      filter: drop-shadow(0px 1px 2px rgba(0, 0, 0, 0.3));\n",
              "      fill: #FFFFFF;\n",
              "    }\n",
              "  </style>\n",
              "\n",
              "      <script>\n",
              "        const buttonEl =\n",
              "          document.querySelector('#df-323d0811-2ed8-4959-ba57-0f7e9f4f1873 button.colab-df-convert');\n",
              "        buttonEl.style.display =\n",
              "          google.colab.kernel.accessAllowed ? 'block' : 'none';\n",
              "\n",
              "        async function convertToInteractive(key) {\n",
              "          const element = document.querySelector('#df-323d0811-2ed8-4959-ba57-0f7e9f4f1873');\n",
              "          const dataTable =\n",
              "            await google.colab.kernel.invokeFunction('convertToInteractive',\n",
              "                                                     [key], {});\n",
              "          if (!dataTable) return;\n",
              "\n",
              "          const docLinkHtml = 'Like what you see? Visit the ' +\n",
              "            '<a target=\"_blank\" href=https://colab.research.google.com/notebooks/data_table.ipynb>data table notebook</a>'\n",
              "            + ' to learn more about interactive tables.';\n",
              "          element.innerHTML = '';\n",
              "          dataTable['output_type'] = 'display_data';\n",
              "          await google.colab.output.renderOutput(dataTable, element);\n",
              "          const docLink = document.createElement('div');\n",
              "          docLink.innerHTML = docLinkHtml;\n",
              "          element.appendChild(docLink);\n",
              "        }\n",
              "      </script>\n",
              "    </div>\n",
              "  </div>\n",
              "  "
            ]
          },
          "metadata": {},
          "execution_count": 7
        }
      ]
    },
    {
      "cell_type": "code",
      "source": [
        "df.isnull().sum()"
      ],
      "metadata": {
        "colab": {
          "base_uri": "https://localhost:8080/"
        },
        "id": "NFNsVPR6qxQu",
        "outputId": "1aaa25fb-4303-4923-fa19-429f40fd40d5"
      },
      "execution_count": null,
      "outputs": [
        {
          "output_type": "execute_result",
          "data": {
            "text/plain": [
              "credit.policy        0\n",
              "purpose              0\n",
              "int.rate             0\n",
              "installment          0\n",
              "log.annual.inc       0\n",
              "dti                  0\n",
              "fico                 0\n",
              "days.with.cr.line    0\n",
              "revol.bal            0\n",
              "revol.util           0\n",
              "inq.last.6mths       0\n",
              "delinq.2yrs          0\n",
              "pub.rec              0\n",
              "not.fully.paid       0\n",
              "dtype: int64"
            ]
          },
          "metadata": {},
          "execution_count": 8
        }
      ]
    },
    {
      "cell_type": "code",
      "source": [
        "df.columns"
      ],
      "metadata": {
        "colab": {
          "base_uri": "https://localhost:8080/"
        },
        "id": "lKs6T-aqq77q",
        "outputId": "e8eaafb4-cdb9-48dc-c769-ea5b4f5f7fcc"
      },
      "execution_count": null,
      "outputs": [
        {
          "output_type": "execute_result",
          "data": {
            "text/plain": [
              "Index(['credit.policy', 'purpose', 'int.rate', 'installment', 'log.annual.inc',\n",
              "       'dti', 'fico', 'days.with.cr.line', 'revol.bal', 'revol.util',\n",
              "       'inq.last.6mths', 'delinq.2yrs', 'pub.rec', 'not.fully.paid'],\n",
              "      dtype='object')"
            ]
          },
          "metadata": {},
          "execution_count": 9
        }
      ]
    },
    {
      "cell_type": "code",
      "source": [
        "df['not.fully.paid'].unique"
      ],
      "metadata": {
        "colab": {
          "base_uri": "https://localhost:8080/"
        },
        "id": "seZzaQoZrBwW",
        "outputId": "e7af171a-6bd6-449e-ecb4-5a607e7c732d"
      },
      "execution_count": null,
      "outputs": [
        {
          "output_type": "execute_result",
          "data": {
            "text/plain": [
              "<bound method Series.unique of 0       0\n",
              "1       0\n",
              "2       0\n",
              "3       0\n",
              "4       0\n",
              "       ..\n",
              "9573    1\n",
              "9574    1\n",
              "9575    1\n",
              "9576    1\n",
              "9577    1\n",
              "Name: not.fully.paid, Length: 9578, dtype: int64>"
            ]
          },
          "metadata": {},
          "execution_count": 10
        }
      ]
    },
    {
      "cell_type": "code",
      "source": [
        "df['not.fully.paid'].value_counts()"
      ],
      "metadata": {
        "colab": {
          "base_uri": "https://localhost:8080/"
        },
        "id": "W8N48fgCrKRl",
        "outputId": "c7a4910e-a815-4b37-d7e3-0f4422831dc2"
      },
      "execution_count": null,
      "outputs": [
        {
          "output_type": "execute_result",
          "data": {
            "text/plain": [
              "0    8045\n",
              "1    1533\n",
              "Name: not.fully.paid, dtype: int64"
            ]
          },
          "metadata": {},
          "execution_count": 11
        }
      ]
    },
    {
      "cell_type": "markdown",
      "source": [
        "#EDA"
      ],
      "metadata": {
        "id": "0F6ZZ8w5r2o9"
      }
    },
    {
      "cell_type": "code",
      "source": [
        "sns.countplot(x=df['not.fully.paid'])\n",
        "plt.show()"
      ],
      "metadata": {
        "colab": {
          "base_uri": "https://localhost:8080/",
          "height": 449
        },
        "id": "9h-zzw1tr41V",
        "outputId": "a38287a7-5640-4f16-db80-b26b347999d2"
      },
      "execution_count": null,
      "outputs": [
        {
          "output_type": "display_data",
          "data": {
            "text/plain": [
              "<Figure size 640x480 with 1 Axes>"
            ],
            "image/png": "[encoded data removed]"
          },
          "metadata": {}
        }
      ]
    },
    {
      "cell_type": "code",
      "source": [
        "plt.figure(figsize=(11,7))\n",
        "sns.countplot(x=df['purpose'])\n",
        "plt.show()"
      ],
      "metadata": {
        "colab": {
          "base_uri": "https://localhost:8080/",
          "height": 619
        },
        "id": "ti-Uw5X_sM3h",
        "outputId": "69b62daa-8037-41e8-fed0-32e15b78d07c"
      },
      "execution_count": null,
      "outputs": [
        {
          "output_type": "display_data",
          "data": {
            "text/plain": [
              "<Figure size 1100x700 with 1 Axes>"
            ],
            "image/png": "[encoded data removed]"
          },
          "metadata": {}
        }
      ]
    },
    {
      "cell_type": "markdown",
      "source": [
        "# Handle Imbalance Data"
      ],
      "metadata": {
        "id": "_fwWL0NwssQi"
      }
    },
    {
      "cell_type": "code",
      "source": [
        "not_fully_paid_0 = df[df['not.fully.paid']==0]"
      ],
      "metadata": {
        "id": "kFwudpFpswan"
      },
      "execution_count": null,
      "outputs": []
    },
    {
      "cell_type": "code",
      "source": [
        "not_fully_paid_1 = df[df['not.fully.paid']==1]"
      ],
      "metadata": {
        "id": "Cy4S3cgltIVX"
      },
      "execution_count": null,
      "outputs": []
    },
    {
      "cell_type": "code",
      "source": [
        "not_fully_paid_0.shape"
      ],
      "metadata": {
        "colab": {
          "base_uri": "https://localhost:8080/"
        },
        "id": "0CziT7bWtOkw",
        "outputId": "0f9079fa-e486-4b4a-dc3f-fd2f6b2d6974"
      },
      "execution_count": null,
      "outputs": [
        {
          "output_type": "execute_result",
          "data": {
            "text/plain": [
              "(8045, 14)"
            ]
          },
          "metadata": {},
          "execution_count": 16
        }
      ]
    },
    {
      "cell_type": "code",
      "source": [
        "not_fully_paid_1.shape"
      ],
      "metadata": {
        "colab": {
          "base_uri": "https://localhost:8080/"
        },
        "id": "aBqXji0KtTWp",
        "outputId": "1466bd50-9f39-4499-e1d0-07ebe251cac9"
      },
      "execution_count": null,
      "outputs": [
        {
          "output_type": "execute_result",
          "data": {
            "text/plain": [
              "(1533, 14)"
            ]
          },
          "metadata": {},
          "execution_count": 17
        }
      ]
    },
    {
      "cell_type": "code",
      "source": [
        "from sklearn.utils import resample\n",
        "from sklearn.utils import shuffle"
      ],
      "metadata": {
        "id": "zwaxcic5tZzu"
      },
      "execution_count": null,
      "outputs": []
    },
    {
      "cell_type": "code",
      "source": [
        "df_sampled_data = resample(not_fully_paid_1, replace=True,n_samples=8045)"
      ],
      "metadata": {
        "id": "lukAJvq-tlA-"
      },
      "execution_count": null,
      "outputs": []
    },
    {
      "cell_type": "code",
      "source": [
        "df_sampled_data.shape"
      ],
      "metadata": {
        "colab": {
          "base_uri": "https://localhost:8080/"
        },
        "id": "ocAJV-d_uAMF",
        "outputId": "fb4f5901-4504-415d-8534-8fbb107a0dd9"
      },
      "execution_count": null,
      "outputs": [
        {
          "output_type": "execute_result",
          "data": {
            "text/plain": [
              "(8045, 14)"
            ]
          },
          "metadata": {},
          "execution_count": 20
        }
      ]
    },
    {
      "cell_type": "code",
      "source": [
        "new_data = pd.concat([not_fully_paid_0,df_sampled_data])"
      ],
      "metadata": {
        "id": "H54xcKK3uEdu"
      },
      "execution_count": null,
      "outputs": []
    },
    {
      "cell_type": "code",
      "source": [
        "new_data"
      ],
      "metadata": {
        "colab": {
          "base_uri": "https://localhost:8080/",
          "height": 487
        },
        "id": "FblATOV8uf8G",
        "outputId": "02e18f53-caca-4003-c634-77e27ef6a601"
      },
      "execution_count": null,
      "outputs": [
        {
          "output_type": "execute_result",
          "data": {
            "text/plain": [
              "      credit.policy             purpose  int.rate  installment  \\\n",
              "0                 1  debt_consolidation    0.1189       829.10   \n",
              "1                 1         credit_card    0.1071       228.22   \n",
              "2                 1  debt_consolidation    0.1357       366.86   \n",
              "3                 1  debt_consolidation    0.1008       162.34   \n",
              "4                 1         credit_card    0.1426       102.92   \n",
              "...             ...                 ...       ...          ...   \n",
              "3184              1           all_other    0.1284       255.50   \n",
              "6680              1  debt_consolidation    0.1565       223.92   \n",
              "421               1         credit_card    0.1236       767.89   \n",
              "1724              1  debt_consolidation    0.1379       340.76   \n",
              "8530              0         credit_card    0.1797       503.22   \n",
              "\n",
              "      log.annual.inc    dti  fico  days.with.cr.line  revol.bal  revol.util  \\\n",
              "0          11.350407  19.48   737        5639.958333      28854        52.1   \n",
              "1          11.082143  14.29   707        2760.000000      33623        76.7   \n",
              "2          10.373491  11.63   682        4710.000000       3511        25.6   \n",
              "3          11.350407   8.10   712        2699.958333      33667        73.2   \n",
              "4          11.299732  14.97   667        4066.000000       4740        39.5   \n",
              "...              ...    ...   ...                ...        ...         ...   \n",
              "3184       10.714418   0.00   757        1410.000000          0         0.0   \n",
              "6680       10.757903   8.94   662        2580.000000          0         0.0   \n",
              "421        11.461632  16.07   702        2580.000000        806        10.3   \n",
              "1724       10.596635  21.63   682        7380.041667      15615        87.7   \n",
              "8530       11.097410  24.71   657        6870.000000      28570        93.7   \n",
              "\n",
              "      inq.last.6mths  delinq.2yrs  pub.rec  not.fully.paid  \n",
              "0                  0            0        0               0  \n",
              "1                  0            0        0               0  \n",
              "2                  1            0        0               0  \n",
              "3                  1            0        0               0  \n",
              "4                  0            1        0               0  \n",
              "...              ...          ...      ...             ...  \n",
              "3184               0            0        0               1  \n",
              "6680               0            0        1               1  \n",
              "421                2            0        0               1  \n",
              "1724               3            0        1               1  \n",
              "8530               7            0        0               1  \n",
              "\n",
              "[16090 rows x 14 columns]"
            ],
            "text/html": [
              "\n",
              "  <div id=\"df-ca923bcb-d5b7-48db-9e2e-a48dd06c66c2\">\n",
              "    <div class=\"colab-df-container\">\n",
              "      <div>\n",
              "<style scoped>\n",
              "    .dataframe tbody tr th:only-of-type {\n",
              "        vertical-align: middle;\n",
              "    }\n",
              "\n",
              "    .dataframe tbody tr th {\n",
              "        vertical-align: top;\n",
              "    }\n",
              "\n",
              "    .dataframe thead th {\n",
              "        text-align: right;\n",
              "    }\n",
              "</style>\n",
              "<table border=\"1\" class=\"dataframe\">\n",
              "  <thead>\n",
              "    <tr style=\"text-align: right;\">\n",
              "      <th></th>\n",
              "      <th>credit.policy</th>\n",
              "      <th>purpose</th>\n",
              "      <th>int.rate</th>\n",
              "      <th>installment</th>\n",
              "      <th>log.annual.inc</th>\n",
              "      <th>dti</th>\n",
              "      <th>fico</th>\n",
              "      <th>days.with.cr.line</th>\n",
              "      <th>revol.bal</th>\n",
              "      <th>revol.util</th>\n",
              "      <th>inq.last.6mths</th>\n",
              "      <th>delinq.2yrs</th>\n",
              "      <th>pub.rec</th>\n",
              "      <th>not.fully.paid</th>\n",
              "    </tr>\n",
              "  </thead>\n",
              "  <tbody>\n",
              "    <tr>\n",
              "      <th>0</th>\n",
              "      <td>1</td>\n",
              "      <td>debt_consolidation</td>\n",
              "      <td>0.1189</td>\n",
              "      <td>829.10</td>\n",
              "      <td>11.350407</td>\n",
              "      <td>19.48</td>\n",
              "      <td>737</td>\n",
              "      <td>5639.958333</td>\n",
              "      <td>28854</td>\n",
              "      <td>52.1</td>\n",
              "      <td>0</td>\n",
              "      <td>0</td>\n",
              "      <td>0</td>\n",
              "      <td>0</td>\n",
              "    </tr>\n",
              "    <tr>\n",
              "      <th>1</th>\n",
              "      <td>1</td>\n",
              "      <td>credit_card</td>\n",
              "      <td>0.1071</td>\n",
              "      <td>228.22</td>\n",
              "      <td>11.082143</td>\n",
              "      <td>14.29</td>\n",
              "      <td>707</td>\n",
              "      <td>2760.000000</td>\n",
              "      <td>33623</td>\n",
              "      <td>76.7</td>\n",
              "      <td>0</td>\n",
              "      <td>0</td>\n",
              "      <td>0</td>\n",
              "      <td>0</td>\n",
              "    </tr>\n",
              "    <tr>\n",
              "      <th>2</th>\n",
              "      <td>1</td>\n",
              "      <td>debt_consolidation</td>\n",
              "      <td>0.1357</td>\n",
              "      <td>366.86</td>\n",
              "      <td>10.373491</td>\n",
              "      <td>11.63</td>\n",
              "      <td>682</td>\n",
              "      <td>4710.000000</td>\n",
              "      <td>3511</td>\n",
              "      <td>25.6</td>\n",
              "      <td>1</td>\n",
              "      <td>0</td>\n",
              "      <td>0</td>\n",
              "      <td>0</td>\n",
              "    </tr>\n",
              "    <tr>\n",
              "      <th>3</th>\n",
              "      <td>1</td>\n",
              "      <td>debt_consolidation</td>\n",
              "      <td>0.1008</td>\n",
              "      <td>162.34</td>\n",
              "      <td>11.350407</td>\n",
              "      <td>8.10</td>\n",
              "      <td>712</td>\n",
              "      <td>2699.958333</td>\n",
              "      <td>33667</td>\n",
              "      <td>73.2</td>\n",
              "      <td>1</td>\n",
              "      <td>0</td>\n",
              "      <td>0</td>\n",
              "      <td>0</td>\n",
              "    </tr>\n",
              "    <tr>\n",
              "      <th>4</th>\n",
              "      <td>1</td>\n",
              "      <td>credit_card</td>\n",
              "      <td>0.1426</td>\n",
              "      <td>102.92</td>\n",
              "      <td>11.299732</td>\n",
              "      <td>14.97</td>\n",
              "      <td>667</td>\n",
              "      <td>4066.000000</td>\n",
              "      <td>4740</td>\n",
              "      <td>39.5</td>\n",
              "      <td>0</td>\n",
              "      <td>1</td>\n",
              "      <td>0</td>\n",
              "      <td>0</td>\n",
              "    </tr>\n",
              "    <tr>\n",
              "      <th>...</th>\n",
              "      <td>...</td>\n",
              "      <td>...</td>\n",
              "      <td>...</td>\n",
              "      <td>...</td>\n",
              "      <td>...</td>\n",
              "      <td>...</td>\n",
              "      <td>...</td>\n",
              "      <td>...</td>\n",
              "      <td>...</td>\n",
              "      <td>...</td>\n",
              "      <td>...</td>\n",
              "      <td>...</td>\n",
              "      <td>...</td>\n",
              "      <td>...</td>\n",
              "    </tr>\n",
              "    <tr>\n",
              "      <th>3184</th>\n",
              "      <td>1</td>\n",
              "      <td>all_other</td>\n",
              "      <td>0.1284</td>\n",
              "      <td>255.50</td>\n",
              "      <td>10.714418</td>\n",
              "      <td>0.00</td>\n",
              "      <td>757</td>\n",
              "      <td>1410.000000</td>\n",
              "      <td>0</td>\n",
              "      <td>0.0</td>\n",
              "      <td>0</td>\n",
              "      <td>0</td>\n",
              "      <td>0</td>\n",
              "      <td>1</td>\n",
              "    </tr>\n",
              "    <tr>\n",
              "      <th>6680</th>\n",
              "      <td>1</td>\n",
              "      <td>debt_consolidation</td>\n",
              "      <td>0.1565</td>\n",
              "      <td>223.92</td>\n",
              "      <td>10.757903</td>\n",
              "      <td>8.94</td>\n",
              "      <td>662</td>\n",
              "      <td>2580.000000</td>\n",
              "      <td>0</td>\n",
              "      <td>0.0</td>\n",
              "      <td>0</td>\n",
              "      <td>0</td>\n",
              "      <td>1</td>\n",
              "      <td>1</td>\n",
              "    </tr>\n",
              "    <tr>\n",
              "      <th>421</th>\n",
              "      <td>1</td>\n",
              "      <td>credit_card</td>\n",
              "      <td>0.1236</td>\n",
              "      <td>767.89</td>\n",
              "      <td>11.461632</td>\n",
              "      <td>16.07</td>\n",
              "      <td>702</td>\n",
              "      <td>2580.000000</td>\n",
              "      <td>806</td>\n",
              "      <td>10.3</td>\n",
              "      <td>2</td>\n",
              "      <td>0</td>\n",
              "      <td>0</td>\n",
              "      <td>1</td>\n",
              "    </tr>\n",
              "    <tr>\n",
              "      <th>1724</th>\n",
              "      <td>1</td>\n",
              "      <td>debt_consolidation</td>\n",
              "      <td>0.1379</td>\n",
              "      <td>340.76</td>\n",
              "      <td>10.596635</td>\n",
              "      <td>21.63</td>\n",
              "      <td>682</td>\n",
              "      <td>7380.041667</td>\n",
              "      <td>15615</td>\n",
              "      <td>87.7</td>\n",
              "      <td>3</td>\n",
              "      <td>0</td>\n",
              "      <td>1</td>\n",
              "      <td>1</td>\n",
              "    </tr>\n",
              "    <tr>\n",
              "      <th>8530</th>\n",
              "      <td>0</td>\n",
              "      <td>credit_card</td>\n",
              "      <td>0.1797</td>\n",
              "      <td>503.22</td>\n",
              "      <td>11.097410</td>\n",
              "      <td>24.71</td>\n",
              "      <td>657</td>\n",
              "      <td>6870.000000</td>\n",
              "      <td>28570</td>\n",
              "      <td>93.7</td>\n",
              "      <td>7</td>\n",
              "      <td>0</td>\n",
              "      <td>0</td>\n",
              "      <td>1</td>\n",
              "    </tr>\n",
              "  </tbody>\n",
              "</table>\n",
              "<p>16090 rows × 14 columns</p>\n",
              "</div>\n",
              "      <button class=\"colab-df-convert\" onclick=\"convertToInteractive('df-ca923bcb-d5b7-48db-9e2e-a48dd06c66c2')\"\n",
              "              title=\"Convert this dataframe to an interactive table.\"\n",
              "              style=\"display:none;\">\n",
              "        \n",
              "  <svg xmlns=\"http://www.w3.org/2000/svg\" height=\"24px\"viewBox=\"0 0 24 24\"\n",
              "       width=\"24px\">\n",
              "    <path d=\"M0 0h24v24H0V0z\" fill=\"none\"/>\n",
              "    <path d=\"M18.56 5.44l.94 2.06.94-2.06 2.06-.94-2.06-.94-.94-2.06-.94 2.06-2.06.94zm-11 1L8.5 8.5l.94-2.06 2.06-.94-2.06-.94L8.5 2.5l-.94 2.06-2.06.94zm10 10l.94 2.06.94-2.06 2.06-.94-2.06-.94-.94-2.06-.94 2.06-2.06.94z\"/><path d=\"M17.41 7.96l-1.37-1.37c-.4-.4-.92-.59-1.43-.59-.52 0-1.04.2-1.43.59L10.3 9.45l-7.72 7.72c-.78.78-.78 2.05 0 2.83L4 21.41c.39.39.9.59 1.41.59.51 0 1.02-.2 1.41-.59l7.78-7.78 2.81-2.81c.8-.78.8-2.07 0-2.86zM5.41 20L4 18.59l7.72-7.72 1.47 1.35L5.41 20z\"/>\n",
              "  </svg>\n",
              "      </button>\n",
              "      \n",
              "  <style>\n",
              "    .colab-df-container {\n",
              "      display:flex;\n",
              "      flex-wrap:wrap;\n",
              "      gap: 12px;\n",
              "    }\n",
              "\n",
              "    .colab-df-convert {\n",
              "      background-color: #E8F0FE;\n",
              "      border: none;\n",
              "      border-radius: 50%;\n",
              "      cursor: pointer;\n",
              "      display: none;\n",
              "      fill: #1967D2;\n",
              "      height: 32px;\n",
              "      padding: 0 0 0 0;\n",
              "      width: 32px;\n",
              "    }\n",
              "\n",
              "    .colab-df-convert:hover {\n",
              "      background-color: #E2EBFA;\n",
              "      box-shadow: 0px 1px 2px rgba(60, 64, 67, 0.3), 0px 1px 3px 1px rgba(60, 64, 67, 0.15);\n",
              "      fill: #174EA6;\n",
              "    }\n",
              "\n",
              "    [theme=dark] .colab-df-convert {\n",
              "      background-color: #3B4455;\n",
              "      fill: #D2E3FC;\n",
              "    }\n",
              "\n",
              "    [theme=dark] .colab-df-convert:hover {\n",
              "      background-color: #434B5C;\n",
              "      box-shadow: 0px 1px 3px 1px rgba(0, 0, 0, 0.15);\n",
              "      filter: drop-shadow(0px 1px 2px rgba(0, 0, 0, 0.3));\n",
              "      fill: #FFFFFF;\n",
              "    }\n",
              "  </style>\n",
              "\n",
              "      <script>\n",
              "        const buttonEl =\n",
              "          document.querySelector('#df-ca923bcb-d5b7-48db-9e2e-a48dd06c66c2 button.colab-df-convert');\n",
              "        buttonEl.style.display =\n",
              "          google.colab.kernel.accessAllowed ? 'block' : 'none';\n",
              "\n",
              "        async function convertToInteractive(key) {\n",
              "          const element = document.querySelector('#df-ca923bcb-d5b7-48db-9e2e-a48dd06c66c2');\n",
              "          const dataTable =\n",
              "            await google.colab.kernel.invokeFunction('convertToInteractive',\n",
              "                                                     [key], {});\n",
              "          if (!dataTable) return;\n",
              "\n",
              "          const docLinkHtml = 'Like what you see? Visit the ' +\n",
              "            '<a target=\"_blank\" href=https://colab.research.google.com/notebooks/data_table.ipynb>data table notebook</a>'\n",
              "            + ' to learn more about interactive tables.';\n",
              "          element.innerHTML = '';\n",
              "          dataTable['output_type'] = 'display_data';\n",
              "          await google.colab.output.renderOutput(dataTable, element);\n",
              "          const docLink = document.createElement('div');\n",
              "          docLink.innerHTML = docLinkHtml;\n",
              "          element.appendChild(docLink);\n",
              "        }\n",
              "      </script>\n",
              "    </div>\n",
              "  </div>\n",
              "  "
            ]
          },
          "metadata": {},
          "execution_count": 22
        }
      ]
    },
    {
      "cell_type": "code",
      "source": [
        "new_data.dtypes"
      ],
      "metadata": {
        "colab": {
          "base_uri": "https://localhost:8080/"
        },
        "id": "n3wSh-r6wh9g",
        "outputId": "a2395277-642d-4e17-ba56-6bd2b4aa5e10"
      },
      "execution_count": null,
      "outputs": [
        {
          "output_type": "execute_result",
          "data": {
            "text/plain": [
              "credit.policy          int64\n",
              "purpose               object\n",
              "int.rate             float64\n",
              "installment          float64\n",
              "log.annual.inc       float64\n",
              "dti                  float64\n",
              "fico                   int64\n",
              "days.with.cr.line    float64\n",
              "revol.bal              int64\n",
              "revol.util           float64\n",
              "inq.last.6mths         int64\n",
              "delinq.2yrs            int64\n",
              "pub.rec                int64\n",
              "not.fully.paid         int64\n",
              "dtype: object"
            ]
          },
          "metadata": {},
          "execution_count": 23
        }
      ]
    },
    {
      "cell_type": "code",
      "source": [
        "new_data = shuffle(new_data)"
      ],
      "metadata": {
        "id": "kXP0mDqCumxz"
      },
      "execution_count": null,
      "outputs": []
    },
    {
      "cell_type": "code",
      "source": [
        "new_data"
      ],
      "metadata": {
        "id": "MSbgKYefhsyw",
        "outputId": "a34597df-c057-4b05-c771-ba757d77f4a7",
        "colab": {
          "base_uri": "https://localhost:8080/",
          "height": 487
        }
      },
      "execution_count": null,
      "outputs": [
        {
          "output_type": "execute_result",
          "data": {
            "text/plain": [
              "      credit.policy             purpose  int.rate  installment  \\\n",
              "8565              0         credit_card    0.1324       216.39   \n",
              "1768              1           all_other    0.1221       159.92   \n",
              "3314              1  debt_consolidation    0.1426       686.12   \n",
              "2404              1           all_other    0.1189       530.63   \n",
              "743               1           all_other    0.1039       272.59   \n",
              "...             ...                 ...       ...          ...   \n",
              "2125              1    home_improvement    0.1316       185.74   \n",
              "6857              1         credit_card    0.0859       369.84   \n",
              "7691              1  debt_consolidation    0.1461       206.86   \n",
              "7398              1  debt_consolidation    0.0788       156.41   \n",
              "944               1  debt_consolidation    0.1608       387.17   \n",
              "\n",
              "      log.annual.inc    dti  fico  days.with.cr.line  revol.bal  revol.util  \\\n",
              "8565       10.518673  25.07   717        4590.000000      13913        43.0   \n",
              "1768       11.127322   3.99   702        5040.000000        468         7.2   \n",
              "3314       11.407565  22.81   687        4505.000000      28619        74.3   \n",
              "2404       11.225243   3.06   752        3750.000000       4498         5.3   \n",
              "743        10.463218  19.61   717        4439.958333        213         7.1   \n",
              "...              ...    ...   ...                ...        ...         ...   \n",
              "2125       10.122623  23.52   692        2850.041667      22479        86.8   \n",
              "6857       11.350407   8.03   787        5250.041667      15917        22.0   \n",
              "7691       10.308953  16.20   682        1769.958333      16626        91.9   \n",
              "7398       10.621327  14.84   722        3390.041667       1451        31.5   \n",
              "944        11.314475  19.96   662        6599.958333      19608        31.1   \n",
              "\n",
              "      inq.last.6mths  delinq.2yrs  pub.rec  not.fully.paid  \n",
              "8565               0            0        0               0  \n",
              "1768               1            1        0               0  \n",
              "3314               1            0        1               1  \n",
              "2404               0            0        0               1  \n",
              "743                1            0        1               0  \n",
              "...              ...          ...      ...             ...  \n",
              "2125               2            0        0               1  \n",
              "6857               2            0        0               0  \n",
              "7691               2            0        0               1  \n",
              "7398               0            0        0               1  \n",
              "944                1            0        0               1  \n",
              "\n",
              "[16090 rows x 14 columns]"
            ],
            "text/html": [
              "\n",
              "  <div id=\"df-aee20de8-1638-446d-8b0c-1a6921a88243\">\n",
              "    <div class=\"colab-df-container\">\n",
              "      <div>\n",
              "<style scoped>\n",
              "    .dataframe tbody tr th:only-of-type {\n",
              "        vertical-align: middle;\n",
              "    }\n",
              "\n",
              "    .dataframe tbody tr th {\n",
              "        vertical-align: top;\n",
              "    }\n",
              "\n",
              "    .dataframe thead th {\n",
              "        text-align: right;\n",
              "    }\n",
              "</style>\n",
              "<table border=\"1\" class=\"dataframe\">\n",
              "  <thead>\n",
              "    <tr style=\"text-align: right;\">\n",
              "      <th></th>\n",
              "      <th>credit.policy</th>\n",
              "      <th>purpose</th>\n",
              "      <th>int.rate</th>\n",
              "      <th>installment</th>\n",
              "      <th>log.annual.inc</th>\n",
              "      <th>dti</th>\n",
              "      <th>fico</th>\n",
              "      <th>days.with.cr.line</th>\n",
              "      <th>revol.bal</th>\n",
              "      <th>revol.util</th>\n",
              "      <th>inq.last.6mths</th>\n",
              "      <th>delinq.2yrs</th>\n",
              "      <th>pub.rec</th>\n",
              "      <th>not.fully.paid</th>\n",
              "    </tr>\n",
              "  </thead>\n",
              "  <tbody>\n",
              "    <tr>\n",
              "      <th>8565</th>\n",
              "      <td>0</td>\n",
              "      <td>credit_card</td>\n",
              "      <td>0.1324</td>\n",
              "      <td>216.39</td>\n",
              "      <td>10.518673</td>\n",
              "      <td>25.07</td>\n",
              "      <td>717</td>\n",
              "      <td>4590.000000</td>\n",
              "      <td>13913</td>\n",
              "      <td>43.0</td>\n",
              "      <td>0</td>\n",
              "      <td>0</td>\n",
              "      <td>0</td>\n",
              "      <td>0</td>\n",
              "    </tr>\n",
              "    <tr>\n",
              "      <th>1768</th>\n",
              "      <td>1</td>\n",
              "      <td>all_other</td>\n",
              "      <td>0.1221</td>\n",
              "      <td>159.92</td>\n",
              "      <td>11.127322</td>\n",
              "      <td>3.99</td>\n",
              "      <td>702</td>\n",
              "      <td>5040.000000</td>\n",
              "      <td>468</td>\n",
              "      <td>7.2</td>\n",
              "      <td>1</td>\n",
              "      <td>1</td>\n",
              "      <td>0</td>\n",
              "      <td>0</td>\n",
              "    </tr>\n",
              "    <tr>\n",
              "      <th>3314</th>\n",
              "      <td>1</td>\n",
              "      <td>debt_consolidation</td>\n",
              "      <td>0.1426</td>\n",
              "      <td>686.12</td>\n",
              "      <td>11.407565</td>\n",
              "      <td>22.81</td>\n",
              "      <td>687</td>\n",
              "      <td>4505.000000</td>\n",
              "      <td>28619</td>\n",
              "      <td>74.3</td>\n",
              "      <td>1</td>\n",
              "      <td>0</td>\n",
              "      <td>1</td>\n",
              "      <td>1</td>\n",
              "    </tr>\n",
              "    <tr>\n",
              "      <th>2404</th>\n",
              "      <td>1</td>\n",
              "      <td>all_other</td>\n",
              "      <td>0.1189</td>\n",
              "      <td>530.63</td>\n",
              "      <td>11.225243</td>\n",
              "      <td>3.06</td>\n",
              "      <td>752</td>\n",
              "      <td>3750.000000</td>\n",
              "      <td>4498</td>\n",
              "      <td>5.3</td>\n",
              "      <td>0</td>\n",
              "      <td>0</td>\n",
              "      <td>0</td>\n",
              "      <td>1</td>\n",
              "    </tr>\n",
              "    <tr>\n",
              "      <th>743</th>\n",
              "      <td>1</td>\n",
              "      <td>all_other</td>\n",
              "      <td>0.1039</td>\n",
              "      <td>272.59</td>\n",
              "      <td>10.463218</td>\n",
              "      <td>19.61</td>\n",
              "      <td>717</td>\n",
              "      <td>4439.958333</td>\n",
              "      <td>213</td>\n",
              "      <td>7.1</td>\n",
              "      <td>1</td>\n",
              "      <td>0</td>\n",
              "      <td>1</td>\n",
              "      <td>0</td>\n",
              "    </tr>\n",
              "    <tr>\n",
              "      <th>...</th>\n",
              "      <td>...</td>\n",
              "      <td>...</td>\n",
              "      <td>...</td>\n",
              "      <td>...</td>\n",
              "      <td>...</td>\n",
              "      <td>...</td>\n",
              "      <td>...</td>\n",
              "      <td>...</td>\n",
              "      <td>...</td>\n",
              "      <td>...</td>\n",
              "      <td>...</td>\n",
              "      <td>...</td>\n",
              "      <td>...</td>\n",
              "      <td>...</td>\n",
              "    </tr>\n",
              "    <tr>\n",
              "      <th>2125</th>\n",
              "      <td>1</td>\n",
              "      <td>home_improvement</td>\n",
              "      <td>0.1316</td>\n",
              "      <td>185.74</td>\n",
              "      <td>10.122623</td>\n",
              "      <td>23.52</td>\n",
              "      <td>692</td>\n",
              "      <td>2850.041667</td>\n",
              "      <td>22479</td>\n",
              "      <td>86.8</td>\n",
              "      <td>2</td>\n",
              "      <td>0</td>\n",
              "      <td>0</td>\n",
              "      <td>1</td>\n",
              "    </tr>\n",
              "    <tr>\n",
              "      <th>6857</th>\n",
              "      <td>1</td>\n",
              "      <td>credit_card</td>\n",
              "      <td>0.0859</td>\n",
              "      <td>369.84</td>\n",
              "      <td>11.350407</td>\n",
              "      <td>8.03</td>\n",
              "      <td>787</td>\n",
              "      <td>5250.041667</td>\n",
              "      <td>15917</td>\n",
              "      <td>22.0</td>\n",
              "      <td>2</td>\n",
              "      <td>0</td>\n",
              "      <td>0</td>\n",
              "      <td>0</td>\n",
              "    </tr>\n",
              "    <tr>\n",
              "      <th>7691</th>\n",
              "      <td>1</td>\n",
              "      <td>debt_consolidation</td>\n",
              "      <td>0.1461</td>\n",
              "      <td>206.86</td>\n",
              "      <td>10.308953</td>\n",
              "      <td>16.20</td>\n",
              "      <td>682</td>\n",
              "      <td>1769.958333</td>\n",
              "      <td>16626</td>\n",
              "      <td>91.9</td>\n",
              "      <td>2</td>\n",
              "      <td>0</td>\n",
              "      <td>0</td>\n",
              "      <td>1</td>\n",
              "    </tr>\n",
              "    <tr>\n",
              "      <th>7398</th>\n",
              "      <td>1</td>\n",
              "      <td>debt_consolidation</td>\n",
              "      <td>0.0788</td>\n",
              "      <td>156.41</td>\n",
              "      <td>10.621327</td>\n",
              "      <td>14.84</td>\n",
              "      <td>722</td>\n",
              "      <td>3390.041667</td>\n",
              "      <td>1451</td>\n",
              "      <td>31.5</td>\n",
              "      <td>0</td>\n",
              "      <td>0</td>\n",
              "      <td>0</td>\n",
              "      <td>1</td>\n",
              "    </tr>\n",
              "    <tr>\n",
              "      <th>944</th>\n",
              "      <td>1</td>\n",
              "      <td>debt_consolidation</td>\n",
              "      <td>0.1608</td>\n",
              "      <td>387.17</td>\n",
              "      <td>11.314475</td>\n",
              "      <td>19.96</td>\n",
              "      <td>662</td>\n",
              "      <td>6599.958333</td>\n",
              "      <td>19608</td>\n",
              "      <td>31.1</td>\n",
              "      <td>1</td>\n",
              "      <td>0</td>\n",
              "      <td>0</td>\n",
              "      <td>1</td>\n",
              "    </tr>\n",
              "  </tbody>\n",
              "</table>\n",
              "<p>16090 rows × 14 columns</p>\n",
              "</div>\n",
              "      <button class=\"colab-df-convert\" onclick=\"convertToInteractive('df-aee20de8-1638-446d-8b0c-1a6921a88243')\"\n",
              "              title=\"Convert this dataframe to an interactive table.\"\n",
              "              style=\"display:none;\">\n",
              "        \n",
              "  <svg xmlns=\"http://www.w3.org/2000/svg\" height=\"24px\"viewBox=\"0 0 24 24\"\n",
              "       width=\"24px\">\n",
              "    <path d=\"M0 0h24v24H0V0z\" fill=\"none\"/>\n",
              "    <path d=\"M18.56 5.44l.94 2.06.94-2.06 2.06-.94-2.06-.94-.94-2.06-.94 2.06-2.06.94zm-11 1L8.5 8.5l.94-2.06 2.06-.94-2.06-.94L8.5 2.5l-.94 2.06-2.06.94zm10 10l.94 2.06.94-2.06 2.06-.94-2.06-.94-.94-2.06-.94 2.06-2.06.94z\"/><path d=\"M17.41 7.96l-1.37-1.37c-.4-.4-.92-.59-1.43-.59-.52 0-1.04.2-1.43.59L10.3 9.45l-7.72 7.72c-.78.78-.78 2.05 0 2.83L4 21.41c.39.39.9.59 1.41.59.51 0 1.02-.2 1.41-.59l7.78-7.78 2.81-2.81c.8-.78.8-2.07 0-2.86zM5.41 20L4 18.59l7.72-7.72 1.47 1.35L5.41 20z\"/>\n",
              "  </svg>\n",
              "      </button>\n",
              "      \n",
              "  <style>\n",
              "    .colab-df-container {\n",
              "      display:flex;\n",
              "      flex-wrap:wrap;\n",
              "      gap: 12px;\n",
              "    }\n",
              "\n",
              "    .colab-df-convert {\n",
              "      background-color: #E8F0FE;\n",
              "      border: none;\n",
              "      border-radius: 50%;\n",
              "      cursor: pointer;\n",
              "      display: none;\n",
              "      fill: #1967D2;\n",
              "      height: 32px;\n",
              "      padding: 0 0 0 0;\n",
              "      width: 32px;\n",
              "    }\n",
              "\n",
              "    .colab-df-convert:hover {\n",
              "      background-color: #E2EBFA;\n",
              "      box-shadow: 0px 1px 2px rgba(60, 64, 67, 0.3), 0px 1px 3px 1px rgba(60, 64, 67, 0.15);\n",
              "      fill: #174EA6;\n",
              "    }\n",
              "\n",
              "    [theme=dark] .colab-df-convert {\n",
              "      background-color: #3B4455;\n",
              "      fill: #D2E3FC;\n",
              "    }\n",
              "\n",
              "    [theme=dark] .colab-df-convert:hover {\n",
              "      background-color: #434B5C;\n",
              "      box-shadow: 0px 1px 3px 1px rgba(0, 0, 0, 0.15);\n",
              "      filter: drop-shadow(0px 1px 2px rgba(0, 0, 0, 0.3));\n",
              "      fill: #FFFFFF;\n",
              "    }\n",
              "  </style>\n",
              "\n",
              "      <script>\n",
              "        const buttonEl =\n",
              "          document.querySelector('#df-aee20de8-1638-446d-8b0c-1a6921a88243 button.colab-df-convert');\n",
              "        buttonEl.style.display =\n",
              "          google.colab.kernel.accessAllowed ? 'block' : 'none';\n",
              "\n",
              "        async function convertToInteractive(key) {\n",
              "          const element = document.querySelector('#df-aee20de8-1638-446d-8b0c-1a6921a88243');\n",
              "          const dataTable =\n",
              "            await google.colab.kernel.invokeFunction('convertToInteractive',\n",
              "                                                     [key], {});\n",
              "          if (!dataTable) return;\n",
              "\n",
              "          const docLinkHtml = 'Like what you see? Visit the ' +\n",
              "            '<a target=\"_blank\" href=https://colab.research.google.com/notebooks/data_table.ipynb>data table notebook</a>'\n",
              "            + ' to learn more about interactive tables.';\n",
              "          element.innerHTML = '';\n",
              "          dataTable['output_type'] = 'display_data';\n",
              "          await google.colab.output.renderOutput(dataTable, element);\n",
              "          const docLink = document.createElement('div');\n",
              "          docLink.innerHTML = docLinkHtml;\n",
              "          element.appendChild(docLink);\n",
              "        }\n",
              "      </script>\n",
              "    </div>\n",
              "  </div>\n",
              "  "
            ]
          },
          "metadata": {},
          "execution_count": 25
        }
      ]
    },
    {
      "cell_type": "code",
      "source": [
        "new_data.head()"
      ],
      "metadata": {
        "colab": {
          "base_uri": "https://localhost:8080/",
          "height": 270
        },
        "id": "TtdVgFcBuw1C",
        "outputId": "4ce8c330-302f-4f19-8aa1-fc8e9eebfb37"
      },
      "execution_count": null,
      "outputs": [
        {
          "output_type": "execute_result",
          "data": {
            "text/plain": [
              "      credit.policy             purpose  int.rate  installment  \\\n",
              "8565              0         credit_card    0.1324       216.39   \n",
              "1768              1           all_other    0.1221       159.92   \n",
              "3314              1  debt_consolidation    0.1426       686.12   \n",
              "2404              1           all_other    0.1189       530.63   \n",
              "743               1           all_other    0.1039       272.59   \n",
              "\n",
              "      log.annual.inc    dti  fico  days.with.cr.line  revol.bal  revol.util  \\\n",
              "8565       10.518673  25.07   717        4590.000000      13913        43.0   \n",
              "1768       11.127322   3.99   702        5040.000000        468         7.2   \n",
              "3314       11.407565  22.81   687        4505.000000      28619        74.3   \n",
              "2404       11.225243   3.06   752        3750.000000       4498         5.3   \n",
              "743        10.463218  19.61   717        4439.958333        213         7.1   \n",
              "\n",
              "      inq.last.6mths  delinq.2yrs  pub.rec  not.fully.paid  \n",
              "8565               0            0        0               0  \n",
              "1768               1            1        0               0  \n",
              "3314               1            0        1               1  \n",
              "2404               0            0        0               1  \n",
              "743                1            0        1               0  "
            ],
            "text/html": [
              "\n",
              "  <div id=\"df-3da5c6db-c352-4ab7-9855-8e6b601e216a\">\n",
              "    <div class=\"colab-df-container\">\n",
              "      <div>\n",
              "<style scoped>\n",
              "    .dataframe tbody tr th:only-of-type {\n",
              "        vertical-align: middle;\n",
              "    }\n",
              "\n",
              "    .dataframe tbody tr th {\n",
              "        vertical-align: top;\n",
              "    }\n",
              "\n",
              "    .dataframe thead th {\n",
              "        text-align: right;\n",
              "    }\n",
              "</style>\n",
              "<table border=\"1\" class=\"dataframe\">\n",
              "  <thead>\n",
              "    <tr style=\"text-align: right;\">\n",
              "      <th></th>\n",
              "      <th>credit.policy</th>\n",
              "      <th>purpose</th>\n",
              "      <th>int.rate</th>\n",
              "      <th>installment</th>\n",
              "      <th>log.annual.inc</th>\n",
              "      <th>dti</th>\n",
              "      <th>fico</th>\n",
              "      <th>days.with.cr.line</th>\n",
              "      <th>revol.bal</th>\n",
              "      <th>revol.util</th>\n",
              "      <th>inq.last.6mths</th>\n",
              "      <th>delinq.2yrs</th>\n",
              "      <th>pub.rec</th>\n",
              "      <th>not.fully.paid</th>\n",
              "    </tr>\n",
              "  </thead>\n",
              "  <tbody>\n",
              "    <tr>\n",
              "      <th>8565</th>\n",
              "      <td>0</td>\n",
              "      <td>credit_card</td>\n",
              "      <td>0.1324</td>\n",
              "      <td>216.39</td>\n",
              "      <td>10.518673</td>\n",
              "      <td>25.07</td>\n",
              "      <td>717</td>\n",
              "      <td>4590.000000</td>\n",
              "      <td>13913</td>\n",
              "      <td>43.0</td>\n",
              "      <td>0</td>\n",
              "      <td>0</td>\n",
              "      <td>0</td>\n",
              "      <td>0</td>\n",
              "    </tr>\n",
              "    <tr>\n",
              "      <th>1768</th>\n",
              "      <td>1</td>\n",
              "      <td>all_other</td>\n",
              "      <td>0.1221</td>\n",
              "      <td>159.92</td>\n",
              "      <td>11.127322</td>\n",
              "      <td>3.99</td>\n",
              "      <td>702</td>\n",
              "      <td>5040.000000</td>\n",
              "      <td>468</td>\n",
              "      <td>7.2</td>\n",
              "      <td>1</td>\n",
              "      <td>1</td>\n",
              "      <td>0</td>\n",
              "      <td>0</td>\n",
              "    </tr>\n",
              "    <tr>\n",
              "      <th>3314</th>\n",
              "      <td>1</td>\n",
              "      <td>debt_consolidation</td>\n",
              "      <td>0.1426</td>\n",
              "      <td>686.12</td>\n",
              "      <td>11.407565</td>\n",
              "      <td>22.81</td>\n",
              "      <td>687</td>\n",
              "      <td>4505.000000</td>\n",
              "      <td>28619</td>\n",
              "      <td>74.3</td>\n",
              "      <td>1</td>\n",
              "      <td>0</td>\n",
              "      <td>1</td>\n",
              "      <td>1</td>\n",
              "    </tr>\n",
              "    <tr>\n",
              "      <th>2404</th>\n",
              "      <td>1</td>\n",
              "      <td>all_other</td>\n",
              "      <td>0.1189</td>\n",
              "      <td>530.63</td>\n",
              "      <td>11.225243</td>\n",
              "      <td>3.06</td>\n",
              "      <td>752</td>\n",
              "      <td>3750.000000</td>\n",
              "      <td>4498</td>\n",
              "      <td>5.3</td>\n",
              "      <td>0</td>\n",
              "      <td>0</td>\n",
              "      <td>0</td>\n",
              "      <td>1</td>\n",
              "    </tr>\n",
              "    <tr>\n",
              "      <th>743</th>\n",
              "      <td>1</td>\n",
              "      <td>all_other</td>\n",
              "      <td>0.1039</td>\n",
              "      <td>272.59</td>\n",
              "      <td>10.463218</td>\n",
              "      <td>19.61</td>\n",
              "      <td>717</td>\n",
              "      <td>4439.958333</td>\n",
              "      <td>213</td>\n",
              "      <td>7.1</td>\n",
              "      <td>1</td>\n",
              "      <td>0</td>\n",
              "      <td>1</td>\n",
              "      <td>0</td>\n",
              "    </tr>\n",
              "  </tbody>\n",
              "</table>\n",
              "</div>\n",
              "      <button class=\"colab-df-convert\" onclick=\"convertToInteractive('df-3da5c6db-c352-4ab7-9855-8e6b601e216a')\"\n",
              "              title=\"Convert this dataframe to an interactive table.\"\n",
              "              style=\"display:none;\">\n",
              "        \n",
              "  <svg xmlns=\"http://www.w3.org/2000/svg\" height=\"24px\"viewBox=\"0 0 24 24\"\n",
              "       width=\"24px\">\n",
              "    <path d=\"M0 0h24v24H0V0z\" fill=\"none\"/>\n",
              "    <path d=\"M18.56 5.44l.94 2.06.94-2.06 2.06-.94-2.06-.94-.94-2.06-.94 2.06-2.06.94zm-11 1L8.5 8.5l.94-2.06 2.06-.94-2.06-.94L8.5 2.5l-.94 2.06-2.06.94zm10 10l.94 2.06.94-2.06 2.06-.94-2.06-.94-.94-2.06-.94 2.06-2.06.94z\"/><path d=\"M17.41 7.96l-1.37-1.37c-.4-.4-.92-.59-1.43-.59-.52 0-1.04.2-1.43.59L10.3 9.45l-7.72 7.72c-.78.78-.78 2.05 0 2.83L4 21.41c.39.39.9.59 1.41.59.51 0 1.02-.2 1.41-.59l7.78-7.78 2.81-2.81c.8-.78.8-2.07 0-2.86zM5.41 20L4 18.59l7.72-7.72 1.47 1.35L5.41 20z\"/>\n",
              "  </svg>\n",
              "      </button>\n",
              "      \n",
              "  <style>\n",
              "    .colab-df-container {\n",
              "      display:flex;\n",
              "      flex-wrap:wrap;\n",
              "      gap: 12px;\n",
              "    }\n",
              "\n",
              "    .colab-df-convert {\n",
              "      background-color: #E8F0FE;\n",
              "      border: none;\n",
              "      border-radius: 50%;\n",
              "      cursor: pointer;\n",
              "      display: none;\n",
              "      fill: #1967D2;\n",
              "      height: 32px;\n",
              "      padding: 0 0 0 0;\n",
              "      width: 32px;\n",
              "    }\n",
              "\n",
              "    .colab-df-convert:hover {\n",
              "      background-color: #E2EBFA;\n",
              "      box-shadow: 0px 1px 2px rgba(60, 64, 67, 0.3), 0px 1px 3px 1px rgba(60, 64, 67, 0.15);\n",
              "      fill: #174EA6;\n",
              "    }\n",
              "\n",
              "    [theme=dark] .colab-df-convert {\n",
              "      background-color: #3B4455;\n",
              "      fill: #D2E3FC;\n",
              "    }\n",
              "\n",
              "    [theme=dark] .colab-df-convert:hover {\n",
              "      background-color: #434B5C;\n",
              "      box-shadow: 0px 1px 3px 1px rgba(0, 0, 0, 0.15);\n",
              "      filter: drop-shadow(0px 1px 2px rgba(0, 0, 0, 0.3));\n",
              "      fill: #FFFFFF;\n",
              "    }\n",
              "  </style>\n",
              "\n",
              "      <script>\n",
              "        const buttonEl =\n",
              "          document.querySelector('#df-3da5c6db-c352-4ab7-9855-8e6b601e216a button.colab-df-convert');\n",
              "        buttonEl.style.display =\n",
              "          google.colab.kernel.accessAllowed ? 'block' : 'none';\n",
              "\n",
              "        async function convertToInteractive(key) {\n",
              "          const element = document.querySelector('#df-3da5c6db-c352-4ab7-9855-8e6b601e216a');\n",
              "          const dataTable =\n",
              "            await google.colab.kernel.invokeFunction('convertToInteractive',\n",
              "                                                     [key], {});\n",
              "          if (!dataTable) return;\n",
              "\n",
              "          const docLinkHtml = 'Like what you see? Visit the ' +\n",
              "            '<a target=\"_blank\" href=https://colab.research.google.com/notebooks/data_table.ipynb>data table notebook</a>'\n",
              "            + ' to learn more about interactive tables.';\n",
              "          element.innerHTML = '';\n",
              "          dataTable['output_type'] = 'display_data';\n",
              "          await google.colab.output.renderOutput(dataTable, element);\n",
              "          const docLink = document.createElement('div');\n",
              "          docLink.innerHTML = docLinkHtml;\n",
              "          element.appendChild(docLink);\n",
              "        }\n",
              "      </script>\n",
              "    </div>\n",
              "  </div>\n",
              "  "
            ]
          },
          "metadata": {},
          "execution_count": 26
        }
      ]
    },
    {
      "cell_type": "code",
      "source": [
        "new_data.shape"
      ],
      "metadata": {
        "colab": {
          "base_uri": "https://localhost:8080/"
        },
        "id": "C-v9xZsbTZM1",
        "outputId": "c032000f-5f97-4904-b387-e9797cbec284"
      },
      "execution_count": null,
      "outputs": [
        {
          "output_type": "execute_result",
          "data": {
            "text/plain": [
              "(16090, 14)"
            ]
          },
          "metadata": {},
          "execution_count": 27
        }
      ]
    },
    {
      "cell_type": "markdown",
      "source": [
        "# Feature Transformation"
      ],
      "metadata": {
        "id": "dblIXPTovFAE"
      }
    },
    {
      "cell_type": "code",
      "source": [
        "from sklearn.preprocessing import LabelEncoder"
      ],
      "metadata": {
        "id": "b0pIkYhivGfI"
      },
      "execution_count": null,
      "outputs": []
    },
    {
      "cell_type": "code",
      "source": [
        "le = LabelEncoder()"
      ],
      "metadata": {
        "id": "yECG6RTlvUXV"
      },
      "execution_count": null,
      "outputs": []
    },
    {
      "cell_type": "code",
      "source": [
        "for i in new_data.columns:\n",
        "    if new_data[i].dtypes=='object':\n",
        "        new_data[i]=le.fit_transform(new_data[i])"
      ],
      "metadata": {
        "id": "6vrCrZodvWwC"
      },
      "execution_count": null,
      "outputs": []
    },
    {
      "cell_type": "code",
      "source": [
        "new_data.head()"
      ],
      "metadata": {
        "colab": {
          "base_uri": "https://localhost:8080/",
          "height": 270
        },
        "id": "3xys3cWmwGBY",
        "outputId": "732070c7-0bad-4fed-88ce-168d0673336c"
      },
      "execution_count": null,
      "outputs": [
        {
          "output_type": "execute_result",
          "data": {
            "text/plain": [
              "      credit.policy  purpose  int.rate  installment  log.annual.inc    dti  \\\n",
              "8565              0        1    0.1324       216.39       10.518673  25.07   \n",
              "1768              1        0    0.1221       159.92       11.127322   3.99   \n",
              "3314              1        2    0.1426       686.12       11.407565  22.81   \n",
              "2404              1        0    0.1189       530.63       11.225243   3.06   \n",
              "743               1        0    0.1039       272.59       10.463218  19.61   \n",
              "\n",
              "      fico  days.with.cr.line  revol.bal  revol.util  inq.last.6mths  \\\n",
              "8565   717        4590.000000      13913        43.0               0   \n",
              "1768   702        5040.000000        468         7.2               1   \n",
              "3314   687        4505.000000      28619        74.3               1   \n",
              "2404   752        3750.000000       4498         5.3               0   \n",
              "743    717        4439.958333        213         7.1               1   \n",
              "\n",
              "      delinq.2yrs  pub.rec  not.fully.paid  \n",
              "8565            0        0               0  \n",
              "1768            1        0               0  \n",
              "3314            0        1               1  \n",
              "2404            0        0               1  \n",
              "743             0        1               0  "
            ],
            "text/html": [
              "\n",
              "  <div id=\"df-bb6abf0f-1869-45d0-a236-c4e85ad187c4\">\n",
              "    <div class=\"colab-df-container\">\n",
              "      <div>\n",
              "<style scoped>\n",
              "    .dataframe tbody tr th:only-of-type {\n",
              "        vertical-align: middle;\n",
              "    }\n",
              "\n",
              "    .dataframe tbody tr th {\n",
              "        vertical-align: top;\n",
              "    }\n",
              "\n",
              "    .dataframe thead th {\n",
              "        text-align: right;\n",
              "    }\n",
              "</style>\n",
              "<table border=\"1\" class=\"dataframe\">\n",
              "  <thead>\n",
              "    <tr style=\"text-align: right;\">\n",
              "      <th></th>\n",
              "      <th>credit.policy</th>\n",
              "      <th>purpose</th>\n",
              "      <th>int.rate</th>\n",
              "      <th>installment</th>\n",
              "      <th>log.annual.inc</th>\n",
              "      <th>dti</th>\n",
              "      <th>fico</th>\n",
              "      <th>days.with.cr.line</th>\n",
              "      <th>revol.bal</th>\n",
              "      <th>revol.util</th>\n",
              "      <th>inq.last.6mths</th>\n",
              "      <th>delinq.2yrs</th>\n",
              "      <th>pub.rec</th>\n",
              "      <th>not.fully.paid</th>\n",
              "    </tr>\n",
              "  </thead>\n",
              "  <tbody>\n",
              "    <tr>\n",
              "      <th>8565</th>\n",
              "      <td>0</td>\n",
              "      <td>1</td>\n",
              "      <td>0.1324</td>\n",
              "      <td>216.39</td>\n",
              "      <td>10.518673</td>\n",
              "      <td>25.07</td>\n",
              "      <td>717</td>\n",
              "      <td>4590.000000</td>\n",
              "      <td>13913</td>\n",
              "      <td>43.0</td>\n",
              "      <td>0</td>\n",
              "      <td>0</td>\n",
              "      <td>0</td>\n",
              "      <td>0</td>\n",
              "    </tr>\n",
              "    <tr>\n",
              "      <th>1768</th>\n",
              "      <td>1</td>\n",
              "      <td>0</td>\n",
              "      <td>0.1221</td>\n",
              "      <td>159.92</td>\n",
              "      <td>11.127322</td>\n",
              "      <td>3.99</td>\n",
              "      <td>702</td>\n",
              "      <td>5040.000000</td>\n",
              "      <td>468</td>\n",
              "      <td>7.2</td>\n",
              "      <td>1</td>\n",
              "      <td>1</td>\n",
              "      <td>0</td>\n",
              "      <td>0</td>\n",
              "    </tr>\n",
              "    <tr>\n",
              "      <th>3314</th>\n",
              "      <td>1</td>\n",
              "      <td>2</td>\n",
              "      <td>0.1426</td>\n",
              "      <td>686.12</td>\n",
              "      <td>11.407565</td>\n",
              "      <td>22.81</td>\n",
              "      <td>687</td>\n",
              "      <td>4505.000000</td>\n",
              "      <td>28619</td>\n",
              "      <td>74.3</td>\n",
              "      <td>1</td>\n",
              "      <td>0</td>\n",
              "      <td>1</td>\n",
              "      <td>1</td>\n",
              "    </tr>\n",
              "    <tr>\n",
              "      <th>2404</th>\n",
              "      <td>1</td>\n",
              "      <td>0</td>\n",
              "      <td>0.1189</td>\n",
              "      <td>530.63</td>\n",
              "      <td>11.225243</td>\n",
              "      <td>3.06</td>\n",
              "      <td>752</td>\n",
              "      <td>3750.000000</td>\n",
              "      <td>4498</td>\n",
              "      <td>5.3</td>\n",
              "      <td>0</td>\n",
              "      <td>0</td>\n",
              "      <td>0</td>\n",
              "      <td>1</td>\n",
              "    </tr>\n",
              "    <tr>\n",
              "      <th>743</th>\n",
              "      <td>1</td>\n",
              "      <td>0</td>\n",
              "      <td>0.1039</td>\n",
              "      <td>272.59</td>\n",
              "      <td>10.463218</td>\n",
              "      <td>19.61</td>\n",
              "      <td>717</td>\n",
              "      <td>4439.958333</td>\n",
              "      <td>213</td>\n",
              "      <td>7.1</td>\n",
              "      <td>1</td>\n",
              "      <td>0</td>\n",
              "      <td>1</td>\n",
              "      <td>0</td>\n",
              "    </tr>\n",
              "  </tbody>\n",
              "</table>\n",
              "</div>\n",
              "      <button class=\"colab-df-convert\" onclick=\"convertToInteractive('df-bb6abf0f-1869-45d0-a236-c4e85ad187c4')\"\n",
              "              title=\"Convert this dataframe to an interactive table.\"\n",
              "              style=\"display:none;\">\n",
              "        \n",
              "  <svg xmlns=\"http://www.w3.org/2000/svg\" height=\"24px\"viewBox=\"0 0 24 24\"\n",
              "       width=\"24px\">\n",
              "    <path d=\"M0 0h24v24H0V0z\" fill=\"none\"/>\n",
              "    <path d=\"M18.56 5.44l.94 2.06.94-2.06 2.06-.94-2.06-.94-.94-2.06-.94 2.06-2.06.94zm-11 1L8.5 8.5l.94-2.06 2.06-.94-2.06-.94L8.5 2.5l-.94 2.06-2.06.94zm10 10l.94 2.06.94-2.06 2.06-.94-2.06-.94-.94-2.06-.94 2.06-2.06.94z\"/><path d=\"M17.41 7.96l-1.37-1.37c-.4-.4-.92-.59-1.43-.59-.52 0-1.04.2-1.43.59L10.3 9.45l-7.72 7.72c-.78.78-.78 2.05 0 2.83L4 21.41c.39.39.9.59 1.41.59.51 0 1.02-.2 1.41-.59l7.78-7.78 2.81-2.81c.8-.78.8-2.07 0-2.86zM5.41 20L4 18.59l7.72-7.72 1.47 1.35L5.41 20z\"/>\n",
              "  </svg>\n",
              "      </button>\n",
              "      \n",
              "  <style>\n",
              "    .colab-df-container {\n",
              "      display:flex;\n",
              "      flex-wrap:wrap;\n",
              "      gap: 12px;\n",
              "    }\n",
              "\n",
              "    .colab-df-convert {\n",
              "      background-color: #E8F0FE;\n",
              "      border: none;\n",
              "      border-radius: 50%;\n",
              "      cursor: pointer;\n",
              "      display: none;\n",
              "      fill: #1967D2;\n",
              "      height: 32px;\n",
              "      padding: 0 0 0 0;\n",
              "      width: 32px;\n",
              "    }\n",
              "\n",
              "    .colab-df-convert:hover {\n",
              "      background-color: #E2EBFA;\n",
              "      box-shadow: 0px 1px 2px rgba(60, 64, 67, 0.3), 0px 1px 3px 1px rgba(60, 64, 67, 0.15);\n",
              "      fill: #174EA6;\n",
              "    }\n",
              "\n",
              "    [theme=dark] .colab-df-convert {\n",
              "      background-color: #3B4455;\n",
              "      fill: #D2E3FC;\n",
              "    }\n",
              "\n",
              "    [theme=dark] .colab-df-convert:hover {\n",
              "      background-color: #434B5C;\n",
              "      box-shadow: 0px 1px 3px 1px rgba(0, 0, 0, 0.15);\n",
              "      filter: drop-shadow(0px 1px 2px rgba(0, 0, 0, 0.3));\n",
              "      fill: #FFFFFF;\n",
              "    }\n",
              "  </style>\n",
              "\n",
              "      <script>\n",
              "        const buttonEl =\n",
              "          document.querySelector('#df-bb6abf0f-1869-45d0-a236-c4e85ad187c4 button.colab-df-convert');\n",
              "        buttonEl.style.display =\n",
              "          google.colab.kernel.accessAllowed ? 'block' : 'none';\n",
              "\n",
              "        async function convertToInteractive(key) {\n",
              "          const element = document.querySelector('#df-bb6abf0f-1869-45d0-a236-c4e85ad187c4');\n",
              "          const dataTable =\n",
              "            await google.colab.kernel.invokeFunction('convertToInteractive',\n",
              "                                                     [key], {});\n",
              "          if (!dataTable) return;\n",
              "\n",
              "          const docLinkHtml = 'Like what you see? Visit the ' +\n",
              "            '<a target=\"_blank\" href=https://colab.research.google.com/notebooks/data_table.ipynb>data table notebook</a>'\n",
              "            + ' to learn more about interactive tables.';\n",
              "          element.innerHTML = '';\n",
              "          dataTable['output_type'] = 'display_data';\n",
              "          await google.colab.output.renderOutput(dataTable, element);\n",
              "          const docLink = document.createElement('div');\n",
              "          docLink.innerHTML = docLinkHtml;\n",
              "          element.appendChild(docLink);\n",
              "        }\n",
              "      </script>\n",
              "    </div>\n",
              "  </div>\n",
              "  "
            ]
          },
          "metadata": {},
          "execution_count": 31
        }
      ]
    },
    {
      "cell_type": "code",
      "source": [
        "le.classes_"
      ],
      "metadata": {
        "colab": {
          "base_uri": "https://localhost:8080/"
        },
        "id": "SYk4ouU4wBOC",
        "outputId": "f0a9ad64-2e96-409b-efc6-e744dcf1b264"
      },
      "execution_count": null,
      "outputs": [
        {
          "output_type": "execute_result",
          "data": {
            "text/plain": [
              "array(['all_other', 'credit_card', 'debt_consolidation', 'educational',\n",
              "       'home_improvement', 'major_purchase', 'small_business'],\n",
              "      dtype=object)"
            ]
          },
          "metadata": {},
          "execution_count": 32
        }
      ]
    },
    {
      "cell_type": "markdown",
      "source": [
        "# Additional Feature Engineering"
      ],
      "metadata": {
        "id": "nX9FzDqBxOsj"
      }
    },
    {
      "cell_type": "code",
      "source": [
        "plt.figure(figsize=(11,7))\n",
        "sns.heatmap(new_data.corr(),annot=True)\n",
        "plt.show()"
      ],
      "metadata": {
        "colab": {
          "base_uri": "https://localhost:8080/",
          "height": 703
        },
        "id": "SEMcPFwmxOE2",
        "outputId": "3ebecec8-7860-43ef-a47a-f39470c30d57"
      },
      "execution_count": null,
      "outputs": [
        {
          "output_type": "display_data",
          "data": {
            "text/plain": [
              "<Figure size 1100x700 with 2 Axes>"
            ],
            "image/png": "[encoded data removed]"
          },
          "metadata": {}
        }
      ]
    },
    {
      "cell_type": "code",
      "source": [
        "new_data.corr().abs()['not.fully.paid'].sort_values(ascending=False)"
      ],
      "metadata": {
        "colab": {
          "base_uri": "https://localhost:8080/"
        },
        "id": "qu52DYDDyq_G",
        "outputId": "cd7d1025-36ca-4290-eea0-939c5d76c4e4"
      },
      "execution_count": null,
      "outputs": [
        {
          "output_type": "execute_result",
          "data": {
            "text/plain": [
              "not.fully.paid       1.000000\n",
              "int.rate             0.216975\n",
              "fico                 0.213406\n",
              "credit.policy        0.202869\n",
              "inq.last.6mths       0.174260\n",
              "revol.util           0.105220\n",
              "pub.rec              0.074205\n",
              "purpose              0.069243\n",
              "installment          0.067210\n",
              "revol.bal            0.065208\n",
              "log.annual.inc       0.049875\n",
              "dti                  0.045244\n",
              "days.with.cr.line    0.040050\n",
              "delinq.2yrs          0.023955\n",
              "Name: not.fully.paid, dtype: float64"
            ]
          },
          "metadata": {},
          "execution_count": 34
        }
      ]
    },
    {
      "cell_type": "code",
      "source": [
        "new_data.columns"
      ],
      "metadata": {
        "colab": {
          "base_uri": "https://localhost:8080/"
        },
        "id": "bSG2KXkrzdq-",
        "outputId": "c40fbf00-bb5d-4a3b-ddc6-a511fe1230c7"
      },
      "execution_count": null,
      "outputs": [
        {
          "output_type": "execute_result",
          "data": {
            "text/plain": [
              "Index(['credit.policy', 'purpose', 'int.rate', 'installment', 'log.annual.inc',\n",
              "       'dti', 'fico', 'days.with.cr.line', 'revol.bal', 'revol.util',\n",
              "       'inq.last.6mths', 'delinq.2yrs', 'pub.rec', 'not.fully.paid'],\n",
              "      dtype='object')"
            ]
          },
          "metadata": {},
          "execution_count": 35
        }
      ]
    },
    {
      "cell_type": "code",
      "source": [
        "X = new_data[['credit.policy', 'purpose', 'int.rate', 'installment',\n",
        "       'fico', 'revol.bal', 'revol.util','inq.last.6mths', 'pub.rec']]"
      ],
      "metadata": {
        "id": "oJtp2Z3OzoVB"
      },
      "execution_count": null,
      "outputs": []
    },
    {
      "cell_type": "code",
      "source": [
        "X.shape"
      ],
      "metadata": {
        "colab": {
          "base_uri": "https://localhost:8080/"
        },
        "id": "pZ_YYi1S0GZd",
        "outputId": "d2a9d01c-4afe-4a4d-956a-23cbfd53c92f"
      },
      "execution_count": null,
      "outputs": [
        {
          "output_type": "execute_result",
          "data": {
            "text/plain": [
              "(16090, 9)"
            ]
          },
          "metadata": {},
          "execution_count": 37
        }
      ]
    },
    {
      "cell_type": "code",
      "source": [
        "y=new_data[['not.fully.paid']]"
      ],
      "metadata": {
        "id": "QRQodVvy0N9Y"
      },
      "execution_count": null,
      "outputs": []
    },
    {
      "cell_type": "code",
      "source": [
        "y.shape"
      ],
      "metadata": {
        "colab": {
          "base_uri": "https://localhost:8080/"
        },
        "id": "H0QvyJS60TWi",
        "outputId": "08d3babd-91a6-48de-df6c-c21193d46f04"
      },
      "execution_count": null,
      "outputs": [
        {
          "output_type": "execute_result",
          "data": {
            "text/plain": [
              "(16090, 1)"
            ]
          },
          "metadata": {},
          "execution_count": 39
        }
      ]
    },
    {
      "cell_type": "code",
      "source": [
        "from sklearn.model_selection import train_test_split\n",
        "from sklearn.preprocessing import StandardScaler"
      ],
      "metadata": {
        "id": "P6tA4rlI4pT2"
      },
      "execution_count": null,
      "outputs": []
    },
    {
      "cell_type": "code",
      "source": [
        "X_train,X_test,y_train,y_test=train_test_split(X,y,test_size=0.2,random_state=42)"
      ],
      "metadata": {
        "id": "-TeIamme47gR"
      },
      "execution_count": null,
      "outputs": []
    },
    {
      "cell_type": "code",
      "source": [
        "sc = StandardScaler()"
      ],
      "metadata": {
        "id": "_fEtUDfn5iTB"
      },
      "execution_count": null,
      "outputs": []
    },
    {
      "cell_type": "code",
      "source": [
        "X_train=sc.fit_transform(X_train)\n",
        "X_test=sc.transform(X_test)"
      ],
      "metadata": {
        "id": "_XEGvHCB5s63"
      },
      "execution_count": null,
      "outputs": []
    },
    {
      "cell_type": "code",
      "source": [
        "X_train"
      ],
      "metadata": {
        "colab": {
          "base_uri": "https://localhost:8080/"
        },
        "id": "NUKU903451HK",
        "outputId": "531cfa3d-10d8-411e-d53a-7ebda7ab0ffe"
      },
      "execution_count": null,
      "outputs": [
        {
          "output_type": "execute_result",
          "data": {
            "text/plain": [
              "array([[ 0.5882356 , -0.58002586,  0.98359158, ...,  0.68352808,\n",
              "         0.04752755, -0.27897731],\n",
              "       [ 0.5882356 , -0.01992887, -0.05324119, ..., -0.68551436,\n",
              "        -0.73730205, -0.27897731],\n",
              "       [ 0.5882356 ,  0.54016812, -1.61219331, ..., -1.39411422,\n",
              "        -0.73730205, -0.27897731],\n",
              "       ...,\n",
              "       [ 0.5882356 ,  2.22045909, -0.44945942, ...,  1.39556775,\n",
              "        -0.73730205, -0.27897731],\n",
              "       [ 0.5882356 , -0.01992887, -1.70476766, ..., -0.28305716,\n",
              "         0.83235716, -0.27897731],\n",
              "       [-1.69999911, -0.01992887, -0.8975193 , ..., -0.18330281,\n",
              "         0.83235716, -0.27897731]])"
            ]
          },
          "metadata": {},
          "execution_count": 44
        }
      ]
    },
    {
      "cell_type": "markdown",
      "source": [
        "# Model Building"
      ],
      "metadata": {
        "id": "acod5b1S548P"
      }
    },
    {
      "cell_type": "code",
      "source": [
        "from tensorflow.keras.models import Sequential\n",
        "from tensorflow.keras.layers import Dense, Dropout\n",
        "from tensorflow.keras.callbacks import EarlyStopping"
      ],
      "metadata": {
        "id": "mqLMcNy45-MF"
      },
      "execution_count": null,
      "outputs": []
    },
    {
      "cell_type": "code",
      "source": [
        "# Creat ANN\n",
        "model = Sequential()\n",
        "# Creat 1st Hidden Layer\n",
        "model.add(Dense(19, activation='relu', input_shape=(9,)))\n",
        "model.add(Dropout(0.3)) # Dropout is capble of handling overfitting\n",
        "\n",
        "# Creat 2nd Hidden\n",
        "model.add(Dense(10, activation='relu'))\n",
        "model.add(Dropout(0.3))\n",
        "\n",
        "# Create Output Layer\n",
        "model.add(Dense(1, activation='sigmoid'))\n",
        "model.add(Dropout(0.3))"
      ],
      "metadata": {
        "id": "J7McZLvG54Vo"
      },
      "execution_count": null,
      "outputs": []
    },
    {
      "cell_type": "code",
      "source": [
        "model.summary()"
      ],
      "metadata": {
        "colab": {
          "base_uri": "https://localhost:8080/"
        },
        "id": "9s6ZvTld9w9Y",
        "outputId": "6ee22bba-b1d5-4a2b-f60d-a535a20b8a07"
      },
      "execution_count": null,
      "outputs": [
        {
          "output_type": "stream",
          "name": "stdout",
          "text": [
            "Model: \"sequential\"\n",
            "_________________________________________________________________\n",
            " Layer (type)                Output Shape              Param #   \n",
            "=================================================================\n",
            " dense (Dense)               (None, 19)                190       \n",
            "                                                                 \n",
            " dropout (Dropout)           (None, 19)                0         \n",
            "                                                                 \n",
            " dense_1 (Dense)             (None, 10)                200       \n",
            "                                                                 \n",
            " dropout_1 (Dropout)         (None, 10)                0         \n",
            "                                                                 \n",
            " dense_2 (Dense)             (None, 1)                 11        \n",
            "                                                                 \n",
            " dropout_2 (Dropout)         (None, 1)                 0         \n",
            "                                                                 \n",
            "=================================================================\n",
            "Total params: 401\n",
            "Trainable params: 401\n",
            "Non-trainable params: 0\n",
            "_________________________________________________________________\n"
          ]
        }
      ]
    },
    {
      "cell_type": "code",
      "source": [
        "model.compile(loss='binary_crossentropy', optimizer='adam', metrics=['accuracy'])"
      ],
      "metadata": {
        "id": "l6bF96nA-MaW"
      },
      "execution_count": null,
      "outputs": []
    },
    {
      "cell_type": "code",
      "source": [
        "# Earlystopping\n",
        "early_stop = EarlyStopping(monitor='val_loss',\n",
        "                           min_delta = 0.01,\n",
        "                           mode = 'min',\n",
        "                           verbose=1,\n",
        "                           patience=10)"
      ],
      "metadata": {
        "id": "oGlYU-YSCibi"
      },
      "execution_count": null,
      "outputs": []
    },
    {
      "cell_type": "code",
      "source": [
        "history_with_early_stop=model.fit(X_train,y_train,\n",
        "                 epochs=50,\n",
        "                 batch_size=256,\n",
        "                 validation_data=(X_test,y_test),\n",
        "                 callbacks=[early_stop])"
      ],
      "metadata": {
        "colab": {
          "base_uri": "https://localhost:8080/"
        },
        "id": "mL5CZBIDDJh7",
        "outputId": "9dc511c5-e7c5-4ef4-eedb-38f86cc9537b"
      },
      "execution_count": null,
      "outputs": [
        {
          "output_type": "stream",
          "name": "stdout",
          "text": [
            "Epoch 1/50\n",
            "51/51 [==============================] - 1s 5ms/step - loss: 3.0750 - accuracy: 0.4938 - val_loss: 0.7384 - val_accuracy: 0.4975\n",
            "Epoch 2/50\n",
            "51/51 [==============================] - 0s 2ms/step - loss: 2.8514 - accuracy: 0.5035 - val_loss: 0.7230 - val_accuracy: 0.5047\n",
            "Epoch 3/50\n",
            "51/51 [==============================] - 0s 2ms/step - loss: 2.8324 - accuracy: 0.5159 - val_loss: 0.7141 - val_accuracy: 0.5019\n",
            "Epoch 4/50\n",
            "51/51 [==============================] - 0s 2ms/step - loss: 2.9100 - accuracy: 0.5267 - val_loss: 0.7069 - val_accuracy: 0.5000\n",
            "Epoch 5/50\n",
            "51/51 [==============================] - 0s 2ms/step - loss: 2.7967 - accuracy: 0.5375 - val_loss: 0.7024 - val_accuracy: 0.4997\n",
            "Epoch 6/50\n",
            "51/51 [==============================] - 0s 2ms/step - loss: 2.7956 - accuracy: 0.5467 - val_loss: 0.6992 - val_accuracy: 0.4994\n",
            "Epoch 7/50\n",
            "51/51 [==============================] - 0s 2ms/step - loss: 2.7519 - accuracy: 0.5442 - val_loss: 0.6975 - val_accuracy: 0.4994\n",
            "Epoch 8/50\n",
            "51/51 [==============================] - 0s 2ms/step - loss: 2.6914 - accuracy: 0.5582 - val_loss: 0.6949 - val_accuracy: 0.4994\n",
            "Epoch 9/50\n",
            "51/51 [==============================] - 0s 2ms/step - loss: 2.7340 - accuracy: 0.5505 - val_loss: 0.6943 - val_accuracy: 0.5000\n",
            "Epoch 10/50\n",
            "51/51 [==============================] - 0s 2ms/step - loss: 2.7398 - accuracy: 0.5575 - val_loss: 0.6954 - val_accuracy: 0.4997\n",
            "Epoch 11/50\n",
            "51/51 [==============================] - 0s 2ms/step - loss: 2.8040 - accuracy: 0.5503 - val_loss: 0.6955 - val_accuracy: 0.4984\n",
            "Epoch 12/50\n",
            "51/51 [==============================] - 0s 2ms/step - loss: 2.7421 - accuracy: 0.5562 - val_loss: 0.6956 - val_accuracy: 0.4984\n",
            "Epoch 13/50\n",
            "51/51 [==============================] - 0s 2ms/step - loss: 2.7626 - accuracy: 0.5610 - val_loss: 0.6962 - val_accuracy: 0.4984\n",
            "Epoch 14/50\n",
            "51/51 [==============================] - 0s 2ms/step - loss: 2.7936 - accuracy: 0.5625 - val_loss: 0.6947 - val_accuracy: 0.4984\n",
            "Epoch 15/50\n",
            "51/51 [==============================] - 0s 2ms/step - loss: 2.8888 - accuracy: 0.5556 - val_loss: 0.6964 - val_accuracy: 0.4984\n",
            "Epoch 16/50\n",
            "51/51 [==============================] - 0s 2ms/step - loss: 2.7293 - accuracy: 0.5691 - val_loss: 0.6966 - val_accuracy: 0.4978\n",
            "Epoch 17/50\n",
            "51/51 [==============================] - 0s 3ms/step - loss: 2.7533 - accuracy: 0.5628 - val_loss: 0.6974 - val_accuracy: 0.4975\n",
            "Epoch 18/50\n",
            "51/51 [==============================] - 0s 3ms/step - loss: 2.7554 - accuracy: 0.5635 - val_loss: 0.6970 - val_accuracy: 0.4975\n",
            "Epoch 18: early stopping\n"
          ]
        }
      ]
    },
    {
      "cell_type": "code",
      "source": [
        "history_no_early_stop=model.fit(X_train,y_train,\n",
        "                 epochs=50,\n",
        "                 batch_size=256,\n",
        "                 validation_data=(X_test,y_test))"
      ],
      "metadata": {
        "colab": {
          "base_uri": "https://localhost:8080/"
        },
        "id": "cuEoVeQCbRsD",
        "outputId": "84614b32-4f4c-46d5-981c-3577b8d5096b"
      },
      "execution_count": null,
      "outputs": [
        {
          "output_type": "stream",
          "name": "stdout",
          "text": [
            "Epoch 1/50\n",
            "51/51 [==============================] - 0s 3ms/step - loss: 2.8111 - accuracy: 0.5671 - val_loss: 0.6961 - val_accuracy: 0.4972\n",
            "Epoch 2/50\n",
            "51/51 [==============================] - 0s 2ms/step - loss: 2.8363 - accuracy: 0.5535 - val_loss: 0.6983 - val_accuracy: 0.4978\n",
            "Epoch 3/50\n",
            "51/51 [==============================] - 0s 2ms/step - loss: 2.7690 - accuracy: 0.5629 - val_loss: 0.6982 - val_accuracy: 0.4978\n",
            "Epoch 4/50\n",
            "51/51 [==============================] - 0s 2ms/step - loss: 2.7710 - accuracy: 0.5675 - val_loss: 0.6975 - val_accuracy: 0.4978\n",
            "Epoch 5/50\n",
            "51/51 [==============================] - 0s 2ms/step - loss: 2.7008 - accuracy: 0.5688 - val_loss: 0.6957 - val_accuracy: 0.4978\n",
            "Epoch 6/50\n",
            "51/51 [==============================] - 0s 2ms/step - loss: 2.6401 - accuracy: 0.5719 - val_loss: 0.6958 - val_accuracy: 0.4978\n",
            "Epoch 7/50\n",
            "51/51 [==============================] - 0s 2ms/step - loss: 2.8431 - accuracy: 0.5562 - val_loss: 0.6961 - val_accuracy: 0.4978\n",
            "Epoch 8/50\n",
            "51/51 [==============================] - 0s 2ms/step - loss: 2.8448 - accuracy: 0.5622 - val_loss: 0.6969 - val_accuracy: 0.4978\n",
            "Epoch 9/50\n",
            "51/51 [==============================] - 0s 2ms/step - loss: 2.8143 - accuracy: 0.5630 - val_loss: 0.6970 - val_accuracy: 0.4978\n",
            "Epoch 10/50\n",
            "51/51 [==============================] - 0s 2ms/step - loss: 2.7953 - accuracy: 0.5667 - val_loss: 0.6972 - val_accuracy: 0.4978\n",
            "Epoch 11/50\n",
            "51/51 [==============================] - 0s 2ms/step - loss: 2.7381 - accuracy: 0.5687 - val_loss: 0.6980 - val_accuracy: 0.4978\n",
            "Epoch 12/50\n",
            "51/51 [==============================] - 0s 2ms/step - loss: 2.7481 - accuracy: 0.5680 - val_loss: 0.6970 - val_accuracy: 0.4978\n",
            "Epoch 13/50\n",
            "51/51 [==============================] - 0s 2ms/step - loss: 2.8182 - accuracy: 0.5630 - val_loss: 0.6973 - val_accuracy: 0.4978\n",
            "Epoch 14/50\n",
            "51/51 [==============================] - 0s 2ms/step - loss: 2.7447 - accuracy: 0.5656 - val_loss: 0.6990 - val_accuracy: 0.4978\n",
            "Epoch 15/50\n",
            "51/51 [==============================] - 0s 2ms/step - loss: 2.7874 - accuracy: 0.5690 - val_loss: 0.6986 - val_accuracy: 0.4978\n",
            "Epoch 16/50\n",
            "51/51 [==============================] - 0s 2ms/step - loss: 2.7489 - accuracy: 0.5684 - val_loss: 0.6986 - val_accuracy: 0.4978\n",
            "Epoch 17/50\n",
            "51/51 [==============================] - 0s 2ms/step - loss: 2.7648 - accuracy: 0.5688 - val_loss: 0.6973 - val_accuracy: 0.4978\n",
            "Epoch 18/50\n",
            "51/51 [==============================] - 0s 3ms/step - loss: 2.7607 - accuracy: 0.5733 - val_loss: 0.6983 - val_accuracy: 0.4978\n",
            "Epoch 19/50\n",
            "51/51 [==============================] - 0s 2ms/step - loss: 2.7479 - accuracy: 0.5703 - val_loss: 0.6983 - val_accuracy: 0.4978\n",
            "Epoch 20/50\n",
            "51/51 [==============================] - 0s 3ms/step - loss: 2.7391 - accuracy: 0.5719 - val_loss: 0.6996 - val_accuracy: 0.4978\n",
            "Epoch 21/50\n",
            "51/51 [==============================] - 0s 3ms/step - loss: 2.8006 - accuracy: 0.5712 - val_loss: 0.6991 - val_accuracy: 0.4978\n",
            "Epoch 22/50\n",
            "51/51 [==============================] - 0s 2ms/step - loss: 2.7429 - accuracy: 0.5721 - val_loss: 0.7006 - val_accuracy: 0.4984\n",
            "Epoch 23/50\n",
            "51/51 [==============================] - 0s 2ms/step - loss: 2.7328 - accuracy: 0.5719 - val_loss: 0.6995 - val_accuracy: 0.4997\n",
            "Epoch 24/50\n",
            "51/51 [==============================] - 0s 2ms/step - loss: 2.7143 - accuracy: 0.5796 - val_loss: 0.6998 - val_accuracy: 0.4994\n",
            "Epoch 25/50\n",
            "51/51 [==============================] - 0s 2ms/step - loss: 2.8104 - accuracy: 0.5738 - val_loss: 0.7013 - val_accuracy: 0.5006\n",
            "Epoch 26/50\n",
            "51/51 [==============================] - 0s 2ms/step - loss: 2.8152 - accuracy: 0.5773 - val_loss: 0.7011 - val_accuracy: 0.5012\n",
            "Epoch 27/50\n",
            "51/51 [==============================] - 0s 2ms/step - loss: 2.8045 - accuracy: 0.5732 - val_loss: 0.7020 - val_accuracy: 0.5012\n",
            "Epoch 28/50\n",
            "51/51 [==============================] - 0s 2ms/step - loss: 2.8115 - accuracy: 0.5709 - val_loss: 0.7005 - val_accuracy: 0.5000\n",
            "Epoch 29/50\n",
            "51/51 [==============================] - 0s 2ms/step - loss: 2.7984 - accuracy: 0.5776 - val_loss: 0.7013 - val_accuracy: 0.5016\n",
            "Epoch 30/50\n",
            "51/51 [==============================] - 0s 2ms/step - loss: 2.8324 - accuracy: 0.5714 - val_loss: 0.7015 - val_accuracy: 0.5016\n",
            "Epoch 31/50\n",
            "51/51 [==============================] - 0s 2ms/step - loss: 2.7794 - accuracy: 0.5745 - val_loss: 0.6997 - val_accuracy: 0.5016\n",
            "Epoch 32/50\n",
            "51/51 [==============================] - 0s 2ms/step - loss: 2.7180 - accuracy: 0.5776 - val_loss: 0.7000 - val_accuracy: 0.5016\n",
            "Epoch 33/50\n",
            "51/51 [==============================] - 0s 3ms/step - loss: 2.7337 - accuracy: 0.5775 - val_loss: 0.7012 - val_accuracy: 0.5000\n",
            "Epoch 34/50\n",
            "51/51 [==============================] - 0s 3ms/step - loss: 2.8373 - accuracy: 0.5752 - val_loss: 0.7021 - val_accuracy: 0.4994\n",
            "Epoch 35/50\n",
            "51/51 [==============================] - 0s 3ms/step - loss: 2.8206 - accuracy: 0.5813 - val_loss: 0.7017 - val_accuracy: 0.5000\n",
            "Epoch 36/50\n",
            "51/51 [==============================] - 0s 3ms/step - loss: 2.7371 - accuracy: 0.5749 - val_loss: 0.7017 - val_accuracy: 0.5000\n",
            "Epoch 37/50\n",
            "51/51 [==============================] - 0s 3ms/step - loss: 2.8202 - accuracy: 0.5713 - val_loss: 0.7019 - val_accuracy: 0.4994\n",
            "Epoch 38/50\n",
            "51/51 [==============================] - 0s 2ms/step - loss: 2.8580 - accuracy: 0.5744 - val_loss: 0.7031 - val_accuracy: 0.5006\n",
            "Epoch 39/50\n",
            "51/51 [==============================] - 0s 3ms/step - loss: 2.7449 - accuracy: 0.5770 - val_loss: 0.7026 - val_accuracy: 0.5022\n",
            "Epoch 40/50\n",
            "51/51 [==============================] - 0s 3ms/step - loss: 2.7554 - accuracy: 0.5813 - val_loss: 0.7009 - val_accuracy: 0.5037\n",
            "Epoch 41/50\n",
            "51/51 [==============================] - 0s 3ms/step - loss: 2.7460 - accuracy: 0.5823 - val_loss: 0.7009 - val_accuracy: 0.5037\n",
            "Epoch 42/50\n",
            "51/51 [==============================] - 0s 3ms/step - loss: 2.7103 - accuracy: 0.5792 - val_loss: 0.7005 - val_accuracy: 0.5019\n",
            "Epoch 43/50\n",
            "51/51 [==============================] - 0s 3ms/step - loss: 2.7423 - accuracy: 0.5808 - val_loss: 0.6991 - val_accuracy: 0.5031\n",
            "Epoch 44/50\n",
            "51/51 [==============================] - 0s 4ms/step - loss: 2.7623 - accuracy: 0.5831 - val_loss: 0.7027 - val_accuracy: 0.5003\n",
            "Epoch 45/50\n",
            "51/51 [==============================] - 0s 3ms/step - loss: 2.7548 - accuracy: 0.5779 - val_loss: 0.7017 - val_accuracy: 0.4997\n",
            "Epoch 46/50\n",
            "51/51 [==============================] - 0s 2ms/step - loss: 2.7511 - accuracy: 0.5835 - val_loss: 0.7010 - val_accuracy: 0.5000\n",
            "Epoch 47/50\n",
            "51/51 [==============================] - 0s 2ms/step - loss: 2.6813 - accuracy: 0.5875 - val_loss: 0.6999 - val_accuracy: 0.5000\n",
            "Epoch 48/50\n",
            "51/51 [==============================] - 0s 2ms/step - loss: 2.7941 - accuracy: 0.5797 - val_loss: 0.7009 - val_accuracy: 0.5016\n",
            "Epoch 49/50\n",
            "51/51 [==============================] - 0s 2ms/step - loss: 2.7022 - accuracy: 0.5841 - val_loss: 0.6996 - val_accuracy: 0.5031\n",
            "Epoch 50/50\n",
            "51/51 [==============================] - 0s 2ms/step - loss: 2.7539 - accuracy: 0.5796 - val_loss: 0.7002 - val_accuracy: 0.5053\n"
          ]
        }
      ]
    },
    {
      "cell_type": "code",
      "source": [
        "# Evaluate the model\n",
        "model.evaluate(X_train,y_train)"
      ],
      "metadata": {
        "id": "XBfsZ8PZF1WW",
        "colab": {
          "base_uri": "https://localhost:8080/"
        },
        "outputId": "2c42850a-892b-4b30-90d2-87972aefee3e"
      },
      "execution_count": null,
      "outputs": [
        {
          "output_type": "stream",
          "name": "stdout",
          "text": [
            "403/403 [==============================] - 1s 2ms/step - loss: 0.6972 - accuracy: 0.5073\n"
          ]
        },
        {
          "output_type": "execute_result",
          "data": {
            "text/plain": [
              "[0.6971821188926697, 0.5073027014732361]"
            ]
          },
          "metadata": {},
          "execution_count": 52
        }
      ]
    },
    {
      "cell_type": "code",
      "source": [
        "# Evaluate the model\n",
        "model.evaluate(X_test,y_test)"
      ],
      "metadata": {
        "id": "5y9yi9_ZF2w5",
        "colab": {
          "base_uri": "https://localhost:8080/"
        },
        "outputId": "40e53f62-61b3-45df-dc13-a96ff8fe3031"
      },
      "execution_count": null,
      "outputs": [
        {
          "output_type": "stream",
          "name": "stdout",
          "text": [
            "101/101 [==============================] - 0s 2ms/step - loss: 0.7002 - accuracy: 0.5053\n"
          ]
        },
        {
          "output_type": "execute_result",
          "data": {
            "text/plain": [
              "[0.7001655697822571, 0.5052827596664429]"
            ]
          },
          "metadata": {},
          "execution_count": 53
        }
      ]
    },
    {
      "cell_type": "code",
      "source": [
        "# Evaluate the model without early stopping\n",
        "loss_no_early_stop, accuracy_no_early_stop = model.evaluate(X_test, y_test)\n",
        "\n",
        "# Evaluate the model with early stopping\n",
        "loss_with_early_stop, accuracy_with_early_stop = model.evaluate(X_test, y_test)\n",
        "\n",
        "print(\"Accuracy without early stopping:\", accuracy_no_early_stop)\n",
        "print(\"Loss without early stopping:\", loss_no_early_stop)\n",
        "print(\"Accuracy with early stopping:\", accuracy_with_early_stop)\n",
        "print(\"Loss with early stopping:\", loss_with_early_stop)\n"
      ],
      "metadata": {
        "colab": {
          "base_uri": "https://localhost:8080/"
        },
        "id": "8NHMPdWFfMzQ",
        "outputId": "ea35bba3-28f7-46c3-ab1c-865ffb2df687"
      },
      "execution_count": null,
      "outputs": [
        {
          "output_type": "stream",
          "name": "stdout",
          "text": [
            "101/101 [==============================] - 0s 2ms/step - loss: 0.7002 - accuracy: 0.5053\n",
            "101/101 [==============================] - 0s 2ms/step - loss: 0.7002 - accuracy: 0.5053\n",
            "Accuracy without early stopping: 0.5052827596664429\n",
            "Loss without early stopping: 0.7001655697822571\n",
            "Accuracy with early stopping: 0.5052827596664429\n",
            "Loss with early stopping: 0.7001655697822571\n"
          ]
        }
      ]
    },
    {
      "cell_type": "code",
      "source": [
        "# Evaluate the model without early stopping\n",
        "loss_no_early_stop, accuracy_no_early_stop = model.evaluate(X_train, y_train)\n",
        "\n",
        "# Evaluate the model with early stopping\n",
        "loss_with_early_stop, accuracy_with_early_stop = model.evaluate(X_train, y_train)\n",
        "\n",
        "print(\"Accuracy without early stopping:\", accuracy_no_early_stop)\n",
        "print(\"Loss without early stopping:\", loss_no_early_stop)\n",
        "print(\"Accuracy with early stopping:\", accuracy_with_early_stop)\n",
        "print(\"Loss with early stopping:\", loss_with_early_stop)\n"
      ],
      "metadata": {
        "colab": {
          "base_uri": "https://localhost:8080/"
        },
        "id": "sK7pYrd4fSH_",
        "outputId": "81a969f2-ffa2-4332-9ab6-7207972bc508"
      },
      "execution_count": null,
      "outputs": [
        {
          "output_type": "stream",
          "name": "stdout",
          "text": [
            "403/403 [==============================] - 1s 2ms/step - loss: 0.6972 - accuracy: 0.5073\n",
            "403/403 [==============================] - 1s 2ms/step - loss: 0.6972 - accuracy: 0.5073\n",
            "Accuracy without early stopping: 0.5073027014732361\n",
            "Loss without early stopping: 0.6971821188926697\n",
            "Accuracy with early stopping: 0.5073027014732361\n",
            "Loss with early stopping: 0.6971821188926697\n"
          ]
        }
      ]
    },
    {
      "cell_type": "code",
      "source": [
        "plt.plot(history_with_early_stop.history['accuracy'], label='With Early Stopping')\n",
        "plt.plot(history_no_early_stop.history['accuracy'], label='No Early Stopping')\n",
        "plt.xlabel('Epoch')\n",
        "plt.ylabel('Accuracy')\n",
        "plt.legend()\n",
        "plt.show()"
      ],
      "metadata": {
        "colab": {
          "base_uri": "https://localhost:8080/",
          "height": 449
        },
        "id": "nmibpAZ0coK3",
        "outputId": "0fc3885a-600b-44d0-a98e-b8c55c3c1f5d"
      },
      "execution_count": null,
      "outputs": [
        {
          "output_type": "display_data",
          "data": {
            "text/plain": [
              "<Figure size 640x480 with 1 Axes>"
            ],
            "image/png": "[encoded data removed]"
          },
          "metadata": {}
        }
      ]
    },
    {
      "cell_type": "markdown",
      "source": [
        "# Hyperparameter Tuning"
      ],
      "metadata": {
        "id": "GlWdRCWlpH2B"
      }
    },
    {
      "cell_type": "code",
      "source": [
        "!pip install keras-tuner"
      ],
      "metadata": {
        "colab": {
          "base_uri": "https://localhost:8080/"
        },
        "id": "Eqne02WGpN1C",
        "outputId": "2aa92d1e-65f9-4070-dbc1-a8d8e83ca56f"
      },
      "execution_count": null,
      "outputs": [
        {
          "output_type": "stream",
          "name": "stdout",
          "text": [
            "Requirement already satisfied: keras-tuner in /usr/local/lib/python3.10/dist-packages (1.3.5)\n",
            "Requirement already satisfied: packaging in /usr/local/lib/python3.10/dist-packages (from keras-tuner) (23.1)\n",
            "Requirement already satisfied: requests in /usr/local/lib/python3.10/dist-packages (from keras-tuner) (2.27.1)\n",
            "Requirement already satisfied: kt-legacy in /usr/local/lib/python3.10/dist-packages (from keras-tuner) (1.0.5)\n",
            "Requirement already satisfied: urllib3<1.27,>=1.21.1 in /usr/local/lib/python3.10/dist-packages (from requests->keras-tuner) (1.26.16)\n",
            "Requirement already satisfied: certifi>=2017.4.17 in /usr/local/lib/python3.10/dist-packages (from requests->keras-tuner) (2023.5.7)\n",
            "Requirement already satisfied: charset-normalizer~=2.0.0 in /usr/local/lib/python3.10/dist-packages (from requests->keras-tuner) (2.0.12)\n",
            "Requirement already satisfied: idna<4,>=2.5 in /usr/local/lib/python3.10/dist-packages (from requests->keras-tuner) (3.4)\n"
          ]
        }
      ]
    },
    {
      "cell_type": "code",
      "source": [
        "import keras_tuner"
      ],
      "metadata": {
        "id": "sxXPZZehqX0j"
      },
      "execution_count": null,
      "outputs": []
    },
    {
      "cell_type": "code",
      "source": [
        "# create a function\n",
        "def build_model(hp):\n",
        "    model=Sequential()\n",
        "\n",
        "    # first hidden layer\n",
        "    model.add(Dense(units=hp.Int('units',min_value=32,max_value=1024,step=16),\n",
        "                   activation=hp.Choice('activation',['relu','tanh']),input_shape=[9]))\n",
        "    model.add(Dropout(hp.Float('rate',min_value=0.1,max_value=0.5,step=0.1)))\n",
        "\n",
        "\n",
        "     # second hidden layer\n",
        "    model.add(Dense(units=hp.Int('units',min_value=32,max_value=1024,step=16),\n",
        "                   activation=hp.Choice('activation',['relu','tanh'])))\n",
        "    model.add(Dropout(hp.Float('rate',min_value=0.1,max_value=0.5,step=0.1)))\n",
        "\n",
        "# third hidden layer\n",
        "    model.add(Dense(units=hp.Int('units',min_value=32,max_value=1024,step=16),\n",
        "                   activation=hp.Choice('activation',['relu','tanh'])))\n",
        "    model.add(Dropout(hp.Float('rate',min_value=0.1,max_value=0.5,step=0.1)))\n",
        "\n",
        "    #output layer\n",
        "    model.add(Dense(1,activation='sigmoid'))\n",
        "\n",
        "    learning_rate=hp.Float('learning_rate',min_value=0.001,max_value=0.1,step=0.01)\n",
        "\n",
        "    model.compile(loss='binary_crossentropy',optimizer=tensorflow.keras.optimizers.Adam(learning_rate),\n",
        "                 metrics=['accuracy'])\n",
        "    return model"
      ],
      "metadata": {
        "id": "VWpsTw0JtvZH"
      },
      "execution_count": null,
      "outputs": []
    },
    {
      "cell_type": "code",
      "source": [
        "import keras_tuner as kt"
      ],
      "metadata": {
        "id": "GX3IDZMfvNtP"
      },
      "execution_count": null,
      "outputs": []
    },
    {
      "cell_type": "code",
      "source": [
        "build_model(kt.HyperParameters())"
      ],
      "metadata": {
        "colab": {
          "base_uri": "https://localhost:8080/"
        },
        "id": "uHFRVStnvRyG",
        "outputId": "9c8dfdfa-b9b4-49a7-933e-917ed5f34eee"
      },
      "execution_count": null,
      "outputs": [
        {
          "output_type": "execute_result",
          "data": {
            "text/plain": [
              "<keras.engine.sequential.Sequential at 0x7f84b203bb80>"
            ]
          },
          "metadata": {},
          "execution_count": 61
        }
      ]
    },
    {
      "cell_type": "code",
      "source": [
        "rtuner=kt.RandomSearch(hypermodel=build_model,\n",
        "                      objective='val_accuracy',\n",
        "                      max_trials=3,\n",
        "                     overwrite=True\n",
        "                  )"
      ],
      "metadata": {
        "id": "o4Io_yMMwk35"
      },
      "execution_count": null,
      "outputs": []
    },
    {
      "cell_type": "code",
      "source": [
        "rtuner.search(X_train, y_train, epochs=4, validation_data=(X_test, y_test), verbose=1)"
      ],
      "metadata": {
        "colab": {
          "base_uri": "https://localhost:8080/"
        },
        "id": "90jlm1Oxwc5u",
        "outputId": "b570b1d8-6034-43b4-9ee1-6cf535a74ca1"
      },
      "execution_count": null,
      "outputs": [
        {
          "output_type": "stream",
          "name": "stdout",
          "text": [
            "Trial 3 Complete [00h 00m 09s]\n",
            "val_accuracy: 0.6019266843795776\n",
            "\n",
            "Best val_accuracy So Far: 0.620261013507843\n",
            "Total elapsed time: 00h 01m 16s\n"
          ]
        }
      ]
    },
    {
      "cell_type": "code",
      "source": [
        "rtuner.results_summary()"
      ],
      "metadata": {
        "colab": {
          "base_uri": "https://localhost:8080/"
        },
        "id": "u8-Xx_RLx8RG",
        "outputId": "e1f94e87-487e-4a02-e119-8448cbba56b3"
      },
      "execution_count": null,
      "outputs": [
        {
          "output_type": "stream",
          "name": "stdout",
          "text": [
            "Results summary\n",
            "Results in ./untitled_project\n",
            "Showing 10 best trials\n",
            "Objective(name=\"val_accuracy\", direction=\"max\")\n",
            "\n",
            "Trial 1 summary\n",
            "Hyperparameters:\n",
            "units: 848\n",
            "activation: relu\n",
            "rate: 0.1\n",
            "learning_rate: 0.031\n",
            "Score: 0.620261013507843\n",
            "\n",
            "Trial 2 summary\n",
            "Hyperparameters:\n",
            "units: 336\n",
            "activation: tanh\n",
            "rate: 0.1\n",
            "learning_rate: 0.041\n",
            "Score: 0.6019266843795776\n",
            "\n",
            "Trial 0 summary\n",
            "Hyperparameters:\n",
            "units: 928\n",
            "activation: tanh\n",
            "rate: 0.1\n",
            "learning_rate: 0.041\n",
            "Score: 0.593536376953125\n"
          ]
        }
      ]
    },
    {
      "cell_type": "code",
      "source": [
        "models=rtuner.get_best_models()"
      ],
      "metadata": {
        "id": "bZowPJ5qzGCm"
      },
      "execution_count": null,
      "outputs": []
    },
    {
      "cell_type": "code",
      "source": [
        "models[0].summary()"
      ],
      "metadata": {
        "colab": {
          "base_uri": "https://localhost:8080/"
        },
        "id": "e4unAtASzABF",
        "outputId": "2a89f617-a693-4e3e-fdab-0d1cd1421f7b"
      },
      "execution_count": null,
      "outputs": [
        {
          "output_type": "stream",
          "name": "stdout",
          "text": [
            "Model: \"sequential\"\n",
            "_________________________________________________________________\n",
            " Layer (type)                Output Shape              Param #   \n",
            "=================================================================\n",
            " dense (Dense)               (None, 848)               8480      \n",
            "                                                                 \n",
            " dropout (Dropout)           (None, 848)               0         \n",
            "                                                                 \n",
            " dense_1 (Dense)             (None, 848)               719952    \n",
            "                                                                 \n",
            " dropout_1 (Dropout)         (None, 848)               0         \n",
            "                                                                 \n",
            " dense_2 (Dense)             (None, 848)               719952    \n",
            "                                                                 \n",
            " dropout_2 (Dropout)         (None, 848)               0         \n",
            "                                                                 \n",
            " dense_3 (Dense)             (None, 1)                 849       \n",
            "                                                                 \n",
            "=================================================================\n",
            "Total params: 1,449,233\n",
            "Trainable params: 1,449,233\n",
            "Non-trainable params: 0\n",
            "_________________________________________________________________\n"
          ]
        }
      ]
    },
    {
      "cell_type": "code",
      "source": [
        "# print accuracy score\n",
        "from sklearn.metrics import accuracy_score\n",
        "y_pred_hp=models[0].predict(X_test)>=0.5"
      ],
      "metadata": {
        "colab": {
          "base_uri": "https://localhost:8080/"
        },
        "id": "0wBzc7RAzQ6F",
        "outputId": "425d2ffe-b549-4e77-f926-7eeddfd87d66"
      },
      "execution_count": null,
      "outputs": [
        {
          "output_type": "stream",
          "name": "stdout",
          "text": [
            "101/101 [==============================] - 0s 4ms/step\n"
          ]
        }
      ]
    },
    {
      "cell_type": "code",
      "source": [
        "print(accuracy_score(y_pred_hp,y_test))"
      ],
      "metadata": {
        "colab": {
          "base_uri": "https://localhost:8080/"
        },
        "id": "yg8429-ZzUny",
        "outputId": "a472eff7-388c-4359-cdd5-ff3a3fb770f3"
      },
      "execution_count": null,
      "outputs": [
        {
          "output_type": "stream",
          "name": "stdout",
          "text": [
            "0.620261031696706\n"
          ]
        }
      ]
    }
  ]
}